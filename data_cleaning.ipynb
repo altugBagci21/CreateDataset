{
 "cells": [
  {
   "cell_type": "markdown",
   "id": "1c62ae9d-4e43-4843-98ee-c2626f8989c0",
   "metadata": {},
   "source": [
    "#  Veri Hazırlama"
   ]
  },
  {
   "cell_type": "markdown",
   "id": "4726394f-ec78-4571-8e42-5aeae2aff05d",
   "metadata": {},
   "source": [
    "# 1. Veriyi alma"
   ]
  },
  {
   "cell_type": "code",
   "execution_count": 1,
   "id": "af8eaa52-89ca-4cd9-ab5c-a5aa7d262fe1",
   "metadata": {},
   "outputs": [],
   "source": [
    "import pandas as pd"
   ]
  },
  {
   "cell_type": "code",
   "execution_count": 15,
   "id": "9dde8050-7b47-4ebc-adb8-a6965cebb570",
   "metadata": {},
   "outputs": [],
   "source": [
    "data = pd.read_csv('datasets/itchy_boots_raw.csv');"
   ]
  },
  {
   "cell_type": "code",
   "execution_count": 16,
   "id": "3ab10531-986d-4f9a-9bdb-5f84a5dc55de",
   "metadata": {},
   "outputs": [
    {
     "data": {
      "text/html": [
       "<div>\n",
       "<style scoped>\n",
       "    .dataframe tbody tr th:only-of-type {\n",
       "        vertical-align: middle;\n",
       "    }\n",
       "\n",
       "    .dataframe tbody tr th {\n",
       "        vertical-align: top;\n",
       "    }\n",
       "\n",
       "    .dataframe thead th {\n",
       "        text-align: right;\n",
       "    }\n",
       "</style>\n",
       "<table border=\"1\" class=\"dataframe\">\n",
       "  <thead>\n",
       "    <tr style=\"text-align: right;\">\n",
       "      <th></th>\n",
       "      <th>Unnamed: 0</th>\n",
       "      <th>season</th>\n",
       "      <th>episode</th>\n",
       "      <th>date</th>\n",
       "      <th>time</th>\n",
       "      <th>rating</th>\n",
       "    </tr>\n",
       "  </thead>\n",
       "  <tbody>\n",
       "    <tr>\n",
       "      <th>0</th>\n",
       "      <td>0</td>\n",
       "      <td>SEASON 7 - Return to Africa</td>\n",
       "      <td>ITCHY BOOTS  New Season: this is where I am go...</td>\n",
       "      <td>4 months</td>\n",
       "      <td>20</td>\n",
       "      <td>s 1,237,258 views</td>\n",
       "    </tr>\n",
       "    <tr>\n",
       "      <th>1</th>\n",
       "      <td>1</td>\n",
       "      <td>SEASON 7 - Return to Africa</td>\n",
       "      <td>I need their help. |S7 - E2|</td>\n",
       "      <td>4 months</td>\n",
       "      <td>19</td>\n",
       "      <td>s 1,548,717 views</td>\n",
       "    </tr>\n",
       "    <tr>\n",
       "      <th>2</th>\n",
       "      <td>2</td>\n",
       "      <td>SEASON 7 - Return to Africa</td>\n",
       "      <td>No motorcyclists have gone here before |S7 - E3|</td>\n",
       "      <td>4 months</td>\n",
       "      <td>25</td>\n",
       "      <td>s 905,116 views</td>\n",
       "    </tr>\n",
       "    <tr>\n",
       "      <th>3</th>\n",
       "      <td>3</td>\n",
       "      <td>SEASON 7 - Return to Africa</td>\n",
       "      <td>How I ended up in a Berber village in Morocco ...</td>\n",
       "      <td>4 months</td>\n",
       "      <td>18</td>\n",
       "      <td>s 790,900 views</td>\n",
       "    </tr>\n",
       "    <tr>\n",
       "      <th>4</th>\n",
       "      <td>4</td>\n",
       "      <td>SEASON 7 - Return to Africa</td>\n",
       "      <td>Motorcycling solo into the Sahara Desert of Mo...</td>\n",
       "      <td>4 months</td>\n",
       "      <td>18</td>\n",
       "      <td>s 648,198 views</td>\n",
       "    </tr>\n",
       "  </tbody>\n",
       "</table>\n",
       "</div>"
      ],
      "text/plain": [
       "   Unnamed: 0                       season  \\\n",
       "0           0  SEASON 7 - Return to Africa   \n",
       "1           1  SEASON 7 - Return to Africa   \n",
       "2           2  SEASON 7 - Return to Africa   \n",
       "3           3  SEASON 7 - Return to Africa   \n",
       "4           4  SEASON 7 - Return to Africa   \n",
       "\n",
       "                                             episode        date  time  \\\n",
       "0  ITCHY BOOTS  New Season: this is where I am go...   4 months     20   \n",
       "1                      I need their help. |S7 - E2|    4 months     19   \n",
       "2  No motorcyclists have gone here before |S7 - E3|    4 months     25   \n",
       "3  How I ended up in a Berber village in Morocco ...   4 months     18   \n",
       "4  Motorcycling solo into the Sahara Desert of Mo...   4 months     18   \n",
       "\n",
       "              rating  \n",
       "0  s 1,237,258 views  \n",
       "1  s 1,548,717 views  \n",
       "2    s 905,116 views  \n",
       "3    s 790,900 views  \n",
       "4    s 648,198 views  "
      ]
     },
     "execution_count": 16,
     "metadata": {},
     "output_type": "execute_result"
    }
   ],
   "source": [
    "data.head()"
   ]
  },
  {
   "cell_type": "markdown",
   "id": "836005d2-273f-4aa4-a8a3-f641e5a8b220",
   "metadata": {},
   "source": [
    "# 2. Veriyi gözden geçirme ve kararlar\n",
    "\n",
    "* Unnamed:0 gereksiz bir sütun\n",
    "* season sütunundan sezon sayısı ve sezon ismini ayırmak gerekecek\n",
    "* episode sütunundan da bölüm sayısı ve başlığı aıyrmalıyız\n",
    "* date sütundaki year, month gibi ifadeleri silip, sadece yıl değerini almak, ay, hafta ve gün olan değerleri de bu yıla ait olacak şekilde 0 ile değiştirmek kararındayım\n",
    "* time sütunu sorunzsuz gibi duruyor\n",
    "* rating sütununda bazı satırlar \"minutes\" ifadesinden kalan 's' içeriyor bunları ve sondaki views ifadelerini silip sayısal dönüşüm yapılmalı"
   ]
  },
  {
   "cell_type": "markdown",
   "id": "63dff7ec-3572-4b32-bc3b-f1ab84dd88b7",
   "metadata": {},
   "source": [
    "## 2.1. Unnamed:0"
   ]
  },
  {
   "cell_type": "code",
   "execution_count": 17,
   "id": "da25e26a-decf-4ab8-b27e-ef9ecd58623b",
   "metadata": {},
   "outputs": [],
   "source": [
    "# Unnamed:0 index değerlerini özellik olarak almış, gerek yok. Basitçe onun dışarda bıraktım.\n",
    "data= data.iloc[:, 1:]"
   ]
  },
  {
   "cell_type": "code",
   "execution_count": 18,
   "id": "894136ba-3995-4896-a432-aacc1c98c600",
   "metadata": {},
   "outputs": [
    {
     "data": {
      "text/html": [
       "<div>\n",
       "<style scoped>\n",
       "    .dataframe tbody tr th:only-of-type {\n",
       "        vertical-align: middle;\n",
       "    }\n",
       "\n",
       "    .dataframe tbody tr th {\n",
       "        vertical-align: top;\n",
       "    }\n",
       "\n",
       "    .dataframe thead th {\n",
       "        text-align: right;\n",
       "    }\n",
       "</style>\n",
       "<table border=\"1\" class=\"dataframe\">\n",
       "  <thead>\n",
       "    <tr style=\"text-align: right;\">\n",
       "      <th></th>\n",
       "      <th>season</th>\n",
       "      <th>episode</th>\n",
       "      <th>date</th>\n",
       "      <th>time</th>\n",
       "      <th>rating</th>\n",
       "    </tr>\n",
       "  </thead>\n",
       "  <tbody>\n",
       "    <tr>\n",
       "      <th>0</th>\n",
       "      <td>SEASON 7 - Return to Africa</td>\n",
       "      <td>ITCHY BOOTS  New Season: this is where I am go...</td>\n",
       "      <td>4 months</td>\n",
       "      <td>20</td>\n",
       "      <td>s 1,237,258 views</td>\n",
       "    </tr>\n",
       "    <tr>\n",
       "      <th>1</th>\n",
       "      <td>SEASON 7 - Return to Africa</td>\n",
       "      <td>I need their help. |S7 - E2|</td>\n",
       "      <td>4 months</td>\n",
       "      <td>19</td>\n",
       "      <td>s 1,548,717 views</td>\n",
       "    </tr>\n",
       "    <tr>\n",
       "      <th>2</th>\n",
       "      <td>SEASON 7 - Return to Africa</td>\n",
       "      <td>No motorcyclists have gone here before |S7 - E3|</td>\n",
       "      <td>4 months</td>\n",
       "      <td>25</td>\n",
       "      <td>s 905,116 views</td>\n",
       "    </tr>\n",
       "    <tr>\n",
       "      <th>3</th>\n",
       "      <td>SEASON 7 - Return to Africa</td>\n",
       "      <td>How I ended up in a Berber village in Morocco ...</td>\n",
       "      <td>4 months</td>\n",
       "      <td>18</td>\n",
       "      <td>s 790,900 views</td>\n",
       "    </tr>\n",
       "    <tr>\n",
       "      <th>4</th>\n",
       "      <td>SEASON 7 - Return to Africa</td>\n",
       "      <td>Motorcycling solo into the Sahara Desert of Mo...</td>\n",
       "      <td>4 months</td>\n",
       "      <td>18</td>\n",
       "      <td>s 648,198 views</td>\n",
       "    </tr>\n",
       "  </tbody>\n",
       "</table>\n",
       "</div>"
      ],
      "text/plain": [
       "                        season  \\\n",
       "0  SEASON 7 - Return to Africa   \n",
       "1  SEASON 7 - Return to Africa   \n",
       "2  SEASON 7 - Return to Africa   \n",
       "3  SEASON 7 - Return to Africa   \n",
       "4  SEASON 7 - Return to Africa   \n",
       "\n",
       "                                             episode        date  time  \\\n",
       "0  ITCHY BOOTS  New Season: this is where I am go...   4 months     20   \n",
       "1                      I need their help. |S7 - E2|    4 months     19   \n",
       "2  No motorcyclists have gone here before |S7 - E3|    4 months     25   \n",
       "3  How I ended up in a Berber village in Morocco ...   4 months     18   \n",
       "4  Motorcycling solo into the Sahara Desert of Mo...   4 months     18   \n",
       "\n",
       "              rating  \n",
       "0  s 1,237,258 views  \n",
       "1  s 1,548,717 views  \n",
       "2    s 905,116 views  \n",
       "3    s 790,900 views  \n",
       "4    s 648,198 views  "
      ]
     },
     "execution_count": 18,
     "metadata": {},
     "output_type": "execute_result"
    }
   ],
   "source": [
    "data.head()"
   ]
  },
  {
   "cell_type": "markdown",
   "id": "12dc921a-6a86-42c2-8ee0-2caa1edd02a5",
   "metadata": {},
   "source": [
    "## 2.2. Sezon isimleri ve numarası\n",
    "\n",
    "\"SEASON 7 - Ret....\" şekklinde bir ifade biçimi var.  Önce '- ' ile isimle sayı bölümünü  ayırıp, sonra sayı bölümünü de boşluk karakteri ile ayırırsam sorun çözülüyor."
   ]
  },
  {
   "cell_type": "code",
   "execution_count": 19,
   "id": "3fd9b7c2-b910-4263-8e9a-95cce056a5ba",
   "metadata": {},
   "outputs": [],
   "source": [
    "season_number = []\n",
    "season_name = []\n",
    "for s in data['season'].values:\n",
    "    try:\n",
    "        s1 = s.split('- ')\n",
    "        season_number.append(int(s1[0].split(' ')[1]))\n",
    "        season_name.append(s1[1])\n",
    "    except:\n",
    "        season_number.append(0)\n",
    "        season_name.append(s1)"
   ]
  },
  {
   "cell_type": "code",
   "execution_count": 21,
   "id": "c2559d0a-42bf-423a-ab26-d2aa86ad24d8",
   "metadata": {},
   "outputs": [],
   "source": [
    "data['season_no'] = season_number\n",
    "data['season_title'] = season_name"
   ]
  },
  {
   "cell_type": "markdown",
   "id": "10991ee0-fc1a-4e13-964d-a56afdbccd51",
   "metadata": {},
   "source": [
    "## 2.3. date\n",
    "\n",
    "Bu özelliğe yaklaşımım: eğer metyin \"year\" ya da \"years\" içeriyorsa bu ifadeleri silerek sadece sayıyı alma şeklimnde.\n",
    "Eğer bu iki ifade yoksa (month, week, day gibi ifadeler varsa) hiç bir şey yapmasına gerek yok, zaten 0."
   ]
  },
  {
   "cell_type": "code",
   "execution_count": 26,
   "id": "ce66e694-899f-41fe-b6d1-174cd4e1ed87",
   "metadata": {},
   "outputs": [],
   "source": [
    "import numpy as np"
   ]
  },
  {
   "cell_type": "code",
   "execution_count": 24,
   "id": "34d9d47b-cba2-49f2-82dc-643f4658eb6e",
   "metadata": {},
   "outputs": [
    {
     "data": {
      "text/plain": [
       "484"
      ]
     },
     "execution_count": 24,
     "metadata": {},
     "output_type": "execute_result"
    }
   ],
   "source": [
    "size = data.shape[0]\n",
    "size"
   ]
  },
  {
   "cell_type": "code",
   "execution_count": 28,
   "id": "ae18b549-d960-42f9-b321-371f1f66b308",
   "metadata": {},
   "outputs": [],
   "source": [
    "uploading_date = np.zeros(size)"
   ]
  },
  {
   "cell_type": "code",
   "execution_count": 30,
   "id": "0988b941-3eb2-41c6-ac33-6800bd6a87ce",
   "metadata": {},
   "outputs": [],
   "source": [
    "for i in range(size):\n",
    "    if 'years' in data.date[i]:\n",
    "        uploading_date[i] = data.date[i].replace('years','').strip()\n",
    "    elif 'year' in data.date[i]:\n",
    "        uploading_date[i] = data.date[i].replace('year','').strip()\n",
    "    "
   ]
  },
  {
   "cell_type": "code",
   "execution_count": 31,
   "id": "08a643dc-0383-42e9-9ed7-6ae07996a8b7",
   "metadata": {},
   "outputs": [],
   "source": [
    "data['uploading_date'] = uploading_date.astype(int)"
   ]
  },
  {
   "cell_type": "markdown",
   "id": "1540c0ba-4864-4988-95c9-c0650b2ffe15",
   "metadata": {},
   "source": [
    "## 2.4. rating\n",
    "\n",
    "Metin içindeki \"views\", bir önceki minutes'den kalan \"s\" ve sayıları ayıran \",\" ifadesini sildikten sonra bazı metinlerde bir sayı ve second ifadesinden kalan \"econd\" (\"s\" yi silmiştik) ile metni ikiye ayırırsak bunu da halletmiş olacağız."
   ]
  },
  {
   "cell_type": "code",
   "execution_count": 33,
   "id": "0380d146-7aa0-4a92-9a97-4fbccbcebaa6",
   "metadata": {},
   "outputs": [],
   "source": [
    "ratings = data.rating"
   ]
  },
  {
   "cell_type": "code",
   "execution_count": 35,
   "id": "c2fe8c99-88ca-4bdd-b04f-42dcb4d96c72",
   "metadata": {},
   "outputs": [],
   "source": [
    "def create_rating(data):\n",
    "    data_temp = [r.replace('views','') for r in data]\n",
    "    data_temp1 = [r.replace(',','') for r in data_temp]\n",
    "    data_temp2 = [r.replace('s','') for r in data_temp1]\n",
    "    rate_list = []\n",
    "    for r in data_temp2:\n",
    "        if 'econd' in r:\n",
    "            r = r.split('econd')[1]\n",
    "        r = ''.join(r)\n",
    "        r = r.strip()\n",
    "        rate_list.append(int(r))\n",
    "    return rate_list"
   ]
  },
  {
   "cell_type": "code",
   "execution_count": 36,
   "id": "dd369470-8caf-415e-b951-1f2a002ee043",
   "metadata": {},
   "outputs": [],
   "source": [
    "rate_list = create_rating(ratings)"
   ]
  },
  {
   "cell_type": "code",
   "execution_count": 39,
   "id": "0bc7ae10-973f-4983-901d-430077f2fd23",
   "metadata": {},
   "outputs": [],
   "source": [
    "data['rate'] = rate_list"
   ]
  },
  {
   "cell_type": "markdown",
   "id": "33d1d13a-aaa5-44ee-96b2-a379c3eab8cd",
   "metadata": {},
   "source": [
    "## 2.5. Bölüm sayısı ve başlığı\n",
    "\n",
    "Bu bölümde biraz uğraşmak gerekiyor, farklı bölümlerde farklı patternler var. İki tane de sorunlu veri var.  Ayırıcı işaretler değişik, sıraları da farklı (bölüm sayıları başta ya da sonda). O yüzden sezon sezon ilerledim. Bir sezonda da ('Adventure Intermezzo: Tour of The Netherlands' bölüm sayısı yok) bölümleri sırasıyla numaraladım."
   ]
  },
  {
   "cell_type": "markdown",
   "id": "98c62d16-2a25-4ba9-ae15-e010509a05d0",
   "metadata": {},
   "source": [
    "### 2.5.1. Her bölüm için veri ayırma"
   ]
  },
  {
   "cell_type": "code",
   "execution_count": 42,
   "id": "80c67227-3ce2-4473-835b-e5875dda1772",
   "metadata": {},
   "outputs": [],
   "source": [
    "def split_data(data, first_split = ']', number_side = 0, second_split='Eps.', title_side = 1):\n",
    "    \"\"\"\n",
    "    first_split: title ile S1E1 patternini ayıran bölme-> '[' karakteri ,']' karakteri  veya '|' olabilir.\n",
    "    second_split: sayısal bölüm için -> 'Eps.', 'Eps', 'E' veya '-' olabilir.\n",
    "    number_side: sayısal kısım başta kalmış ise 0 değilse 1\n",
    "    title_side: başlık başta kalmış ise 0 değilse 1\n",
    "    \"\"\"\n",
    "    \n",
    "        \n",
    "    if second_split not in data:\n",
    "        second_split='Eps'\n",
    "        if second_split not in data:\n",
    "            second_split='E'\n",
    "            if second_split not in data:\n",
    "                second_split='-'\n",
    "    if len(data.split(first_split)) > 1:\n",
    "        if first_split =='[':\n",
    "            t = data.split(first_split)[number_side].split(second_split)[1].strip()\n",
    "            return int(t.replace(']','')), data.split(first_split)[title_side]\n",
    "        else:\n",
    "            return int(data.split(first_split)[number_side].split(second_split)[1].strip()), data.split(first_split)[title_side]\n",
    "    else:\n",
    "        return -1, data"
   ]
  },
  {
   "cell_type": "code",
   "execution_count": 44,
   "id": "40e6a521-9a3d-49f8-b20f-8cc5009eed17",
   "metadata": {},
   "outputs": [],
   "source": [
    "# Bazı verileri elle düzelteecğim, uyarıları görmemek için\n",
    "import warnings\n",
    "warnings.filterwarnings('ignore')"
   ]
  },
  {
   "cell_type": "code",
   "execution_count": 45,
   "id": "6ed1c7d6-447e-495b-a5aa-ad93e768f696",
   "metadata": {},
   "outputs": [],
   "source": [
    "s1 = data[data.season_no==1]['episode']\n",
    "\n",
    "s1_episode_no = []\n",
    "s1_episode_title = []\n",
    "\n",
    "for i in s1:\n",
    "    n,t = split_data(i)\n",
    "    s1_episode_no.append(n)\n",
    "    s1_episode_title.append(t)"
   ]
  },
  {
   "cell_type": "code",
   "execution_count": 46,
   "id": "698c35c7-e380-4391-b8db-a656ffa1df70",
   "metadata": {},
   "outputs": [],
   "source": [
    "s2 = data[data.season_no==2]['episode']\n",
    "\n",
    "s2_episode_no = []\n",
    "s2_episode_title = []\n",
    "\n",
    "for i in s2:\n",
    "    n,t = split_data(i)\n",
    "    s2_episode_no.append(n)\n",
    "    s2_episode_title.append(t)"
   ]
  },
  {
   "cell_type": "code",
   "execution_count": 47,
   "id": "5da4a84a-7387-4b6f-b424-2d67147e76bf",
   "metadata": {},
   "outputs": [],
   "source": [
    "s3 = data[data.season_no==3]['episode']\n",
    "\n",
    "s3_episode_no = []\n",
    "s3_episode_title = []\n",
    "\n",
    "for i in s3:\n",
    "    n,t = split_data(i, first_split='[', number_side=1, title_side=0)\n",
    "    s3_episode_no.append(n)\n",
    "    s3_episode_title.append(t)"
   ]
  },
  {
   "cell_type": "code",
   "execution_count": 48,
   "id": "65ef0b78-738e-4455-8ca9-46f4be79cdfc",
   "metadata": {},
   "outputs": [],
   "source": [
    "s4 = data[data.season_no==4]['episode']\n",
    "\n",
    "s4_episode_no = []\n",
    "s4_episode_title = []\n",
    "\n",
    "for i in s4:\n",
    "    n,t = split_data(i, first_split='[', number_side=1, title_side=0)\n",
    "    s4_episode_no.append(n)\n",
    "    s4_episode_title.append(t)"
   ]
  },
  {
   "cell_type": "code",
   "execution_count": 49,
   "id": "9b2845cf-8192-4686-84bb-9e91b9a2af5b",
   "metadata": {},
   "outputs": [],
   "source": [
    "s5 = data[data.season_no==5]['episode']\n",
    "\n",
    "s5_episode_no = []\n",
    "s5_episode_title = []\n",
    "\n",
    "for i in s5:\n",
    "    # print(i)\n",
    "    n,t = split_data(i, first_split='[', number_side=1, title_side=0)\n",
    "    s5_episode_no.append(n)\n",
    "    s5_episode_title.append(t)"
   ]
  },
  {
   "cell_type": "code",
   "execution_count": 50,
   "id": "597ceb0c-e4a1-46f7-8f3c-8c79fb5f5d08",
   "metadata": {},
   "outputs": [],
   "source": [
    "s6 = data[data.season_no==6]['episode']"
   ]
  },
  {
   "cell_type": "code",
   "execution_count": 55,
   "id": "4b61c73f-346e-4f0a-88d4-4af99891c3c5",
   "metadata": {},
   "outputs": [],
   "source": [
    "# Sıkıntılı bir veriydi, elle  düzelttim\n",
    "s6.iloc[66] = 'Only my motorcycle can pass here:I have to find an IXIL house in GUATEMALA |S6-E67| '"
   ]
  },
  {
   "cell_type": "code",
   "execution_count": 52,
   "id": "ecfefdb0-71b7-40de-b426-969b536f3afa",
   "metadata": {},
   "outputs": [],
   "source": [
    "s6_episode_no = []\n",
    "s6_episode_title = []\n",
    "\n",
    "for i in s6:\n",
    "    n,t = split_data(i, first_split='|', number_side=1, title_side=0)\n",
    "    s6_episode_no.append(n)\n",
    "    s6_episode_title.append(t)"
   ]
  },
  {
   "cell_type": "code",
   "execution_count": 54,
   "id": "f58c7106-0b19-4a42-ae59-a270ed104dad",
   "metadata": {},
   "outputs": [],
   "source": [
    "s7 = data[data.season_no==7]['episode']"
   ]
  },
  {
   "cell_type": "code",
   "execution_count": 57,
   "id": "f5fdfb21-f21e-4670-8682-4b50417995b3",
   "metadata": {},
   "outputs": [],
   "source": [
    "# İkinci sıkıntılı veri\n",
    "s7.iloc[26] = 'First leg of the African Continent COMPLETE - Reaching DAKAR |S7 - Eps.27| '"
   ]
  },
  {
   "cell_type": "code",
   "execution_count": 58,
   "id": "40a65d4f-02ac-40b3-a355-2cfa3eed93b1",
   "metadata": {},
   "outputs": [],
   "source": [
    "s7_episode_no = []\n",
    "s7_episode_title = []\n",
    "\n",
    "for i in s7:\n",
    "    n,t = split_data(i, first_split='|', number_side=1, title_side=0)\n",
    "    s7_episode_no.append(n)\n",
    "    s7_episode_title.append(t)"
   ]
  },
  {
   "cell_type": "code",
   "execution_count": 59,
   "id": "3ca6b7a1-4e89-4894-9e4f-c9211bfcf400",
   "metadata": {},
   "outputs": [],
   "source": [
    "# Adventure intermezzo için\n",
    "s_inter = data[data.season=='Adventure Intermezzo: Tour of The Netherlands']['episode']\n",
    "s_inter_episode_title  = s_inter.values\n",
    "s_inter_episode_no = []\n",
    "\n",
    "for i in range(len(s_inter_episode_title)):\n",
    "    s_inter_episode_no.append(i+1)"
   ]
  },
  {
   "cell_type": "markdown",
   "id": "9d0ee5a0-f3fc-4490-a7e5-e83d0787007f",
   "metadata": {},
   "source": [
    "### 2.5.2. index değerleri"
   ]
  },
  {
   "cell_type": "code",
   "execution_count": 60,
   "id": "70e03a80-9bdc-4a78-bec1-fe595d968de1",
   "metadata": {},
   "outputs": [],
   "source": [
    "s1_index = data[data.season_no==1].index\n",
    "s2_index = data[data.season_no==2].index\n",
    "s3_index = data[data.season_no==3].index\n",
    "s4_index = data[data.season_no==4].index\n",
    "s5_index = data[data.season_no==5].index\n",
    "s6_index = data[data.season_no==6].index\n",
    "s7_index = data[data.season_no==7].index\n",
    "s_inter_index = data[data.season=='Adventure Intermezzo: Tour of The Netherlands'].index"
   ]
  },
  {
   "cell_type": "markdown",
   "id": "395cc63b-c9bd-4a6c-b99b-34432d9e178c",
   "metadata": {},
   "source": [
    "### 2.5.3. DataFrame çevrimi"
   ]
  },
  {
   "cell_type": "code",
   "execution_count": 61,
   "id": "20a04561-e343-4ce7-95da-950e14eee525",
   "metadata": {},
   "outputs": [],
   "source": [
    "def to_df(episodes, titles, index_):\n",
    "    df = pd.DataFrame(episodes, index=index_)\n",
    "    df['name']= titles\n",
    "    df.columns = ['E','title']\n",
    "    return df"
   ]
  },
  {
   "cell_type": "code",
   "execution_count": 62,
   "id": "9cfca3b1-ac7d-4b52-be16-5cf39c0a09de",
   "metadata": {},
   "outputs": [],
   "source": [
    "df_season1 = to_df(s1_episode_no,s1_episode_title, s1_index)\n",
    "df_season2 = to_df(s2_episode_no,s2_episode_title, s2_index)\n",
    "df_season3 = to_df(s3_episode_no,s3_episode_title, s3_index)\n",
    "df_season4 = to_df(s4_episode_no,s4_episode_title, s4_index)\n",
    "df_season5 = to_df(s5_episode_no,s5_episode_title, s5_index)\n",
    "df_season6 = to_df(s6_episode_no,s6_episode_title, s6_index)\n",
    "df_season7 = to_df(s7_episode_no,s7_episode_title, s7_index)\n",
    "df_season_inter = to_df(s_inter_episode_no,s_inter_episode_title, s_inter_index)"
   ]
  },
  {
   "cell_type": "markdown",
   "id": "361c13da-898c-4030-afae-5725962b97de",
   "metadata": {},
   "source": [
    "### 2.5.4. Bölüm verilerini birleştirme"
   ]
  },
  {
   "cell_type": "code",
   "execution_count": 63,
   "id": "49843cb3-573c-4d05-beb7-bd098d949e99",
   "metadata": {},
   "outputs": [],
   "source": [
    "df_total_episodes = pd.concat([df_season1,df_season2,df_season3,df_season4,\n",
    "                     df_season5,df_season6,df_season7, df_season_inter], axis=0)"
   ]
  },
  {
   "cell_type": "code",
   "execution_count": 64,
   "id": "4ad76d40-6c10-4630-8379-d7dabf72a3a7",
   "metadata": {},
   "outputs": [
    {
     "data": {
      "text/html": [
       "<div>\n",
       "<style scoped>\n",
       "    .dataframe tbody tr th:only-of-type {\n",
       "        vertical-align: middle;\n",
       "    }\n",
       "\n",
       "    .dataframe tbody tr th {\n",
       "        vertical-align: top;\n",
       "    }\n",
       "\n",
       "    .dataframe thead th {\n",
       "        text-align: right;\n",
       "    }\n",
       "</style>\n",
       "<table border=\"1\" class=\"dataframe\">\n",
       "  <thead>\n",
       "    <tr style=\"text-align: right;\">\n",
       "      <th></th>\n",
       "      <th>E</th>\n",
       "      <th>title</th>\n",
       "    </tr>\n",
       "  </thead>\n",
       "  <tbody>\n",
       "    <tr>\n",
       "      <th>371</th>\n",
       "      <td>1</td>\n",
       "      <td>KICKOFF!!</td>\n",
       "    </tr>\n",
       "    <tr>\n",
       "      <th>372</th>\n",
       "      <td>2</td>\n",
       "      <td>An EMPTY road in India</td>\n",
       "    </tr>\n",
       "    <tr>\n",
       "      <th>373</th>\n",
       "      <td>3</td>\n",
       "      <td>GANGA AARTI in India</td>\n",
       "    </tr>\n",
       "    <tr>\n",
       "      <th>374</th>\n",
       "      <td>4</td>\n",
       "      <td>Battling Cows in India</td>\n",
       "    </tr>\n",
       "    <tr>\n",
       "      <th>375</th>\n",
       "      <td>5</td>\n",
       "      <td>CHAIN MAINTENANCE of a Royal Enfield Himalayan</td>\n",
       "    </tr>\n",
       "  </tbody>\n",
       "</table>\n",
       "</div>"
      ],
      "text/plain": [
       "     E                                             title\n",
       "371  1                                        KICKOFF!! \n",
       "372  2                           An EMPTY road in India \n",
       "373  3                             GANGA AARTI in India \n",
       "374  4                           Battling Cows in India \n",
       "375  5   CHAIN MAINTENANCE of a Royal Enfield Himalayan "
      ]
     },
     "execution_count": 64,
     "metadata": {},
     "output_type": "execute_result"
    }
   ],
   "source": [
    "df_total_episodes.head()"
   ]
  },
  {
   "cell_type": "code",
   "execution_count": 75,
   "id": "fac6cd8c-3230-4e51-a4bd-41a5e198b6f6",
   "metadata": {},
   "outputs": [],
   "source": [
    "# indexlere göre sıralama\n",
    "df_total_episodes = df_total_episodes.sort_index()"
   ]
  },
  {
   "cell_type": "markdown",
   "id": "cd62517c-c6c8-4a81-a779-f461b2ceba8a",
   "metadata": {},
   "source": [
    "### 2.5.5. Tekrarlayan bölümler\n",
    "\n",
    "Bu bölümler listede iki defa geçiyor, ilgili sezonda ve ayrıca başka listelerde. Tekrarlara gerek olmayacak."
   ]
  },
  {
   "cell_type": "code",
   "execution_count": 65,
   "id": "5dd54fd3-7504-4154-8c4e-448449199f32",
   "metadata": {},
   "outputs": [],
   "source": [
    "bike_index = data[data.season=='Bike reviews, maintenance & logistics'].index\n",
    "pop_index = data[data.season=='Popular uploads'].index"
   ]
  },
  {
   "cell_type": "code",
   "execution_count": 71,
   "id": "d4278367-4674-4218-9797-a493ab6b2e45",
   "metadata": {},
   "outputs": [],
   "source": [
    "data = data.drop(bike_index)"
   ]
  },
  {
   "cell_type": "code",
   "execution_count": 73,
   "id": "c384ea22-b12c-463f-83b9-64f0011c3b76",
   "metadata": {},
   "outputs": [],
   "source": [
    "data= data.drop(pop_index)"
   ]
  },
  {
   "cell_type": "markdown",
   "id": "a6703e14-e895-4628-b2c4-519cb58b12fa",
   "metadata": {},
   "source": [
    "## 2.6. Veri setinin son hali\n",
    "\n",
    "Bölüm başlıkları ve sayılarından oluşan dataframe ile "
   ]
  },
  {
   "cell_type": "code",
   "execution_count": 76,
   "id": "ab45d703-9e23-4a2f-b303-86aec307930d",
   "metadata": {},
   "outputs": [],
   "source": [
    "itchy_boots = pd.concat([data, df_total_episodes], axis=1)"
   ]
  },
  {
   "cell_type": "code",
   "execution_count": 77,
   "id": "ba3afd59-2e7e-4ae1-ae73-e9820ee1dbe2",
   "metadata": {},
   "outputs": [
    {
     "data": {
      "text/html": [
       "<div>\n",
       "<style scoped>\n",
       "    .dataframe tbody tr th:only-of-type {\n",
       "        vertical-align: middle;\n",
       "    }\n",
       "\n",
       "    .dataframe tbody tr th {\n",
       "        vertical-align: top;\n",
       "    }\n",
       "\n",
       "    .dataframe thead th {\n",
       "        text-align: right;\n",
       "    }\n",
       "</style>\n",
       "<table border=\"1\" class=\"dataframe\">\n",
       "  <thead>\n",
       "    <tr style=\"text-align: right;\">\n",
       "      <th></th>\n",
       "      <th>season</th>\n",
       "      <th>episode</th>\n",
       "      <th>date</th>\n",
       "      <th>time</th>\n",
       "      <th>rating</th>\n",
       "      <th>season_no</th>\n",
       "      <th>season_title</th>\n",
       "      <th>uploading_date</th>\n",
       "      <th>rate</th>\n",
       "      <th>E</th>\n",
       "      <th>title</th>\n",
       "    </tr>\n",
       "  </thead>\n",
       "  <tbody>\n",
       "    <tr>\n",
       "      <th>0</th>\n",
       "      <td>SEASON 7 - Return to Africa</td>\n",
       "      <td>ITCHY BOOTS  New Season: this is where I am go...</td>\n",
       "      <td>4 months</td>\n",
       "      <td>20</td>\n",
       "      <td>s 1,237,258 views</td>\n",
       "      <td>7</td>\n",
       "      <td>Return to Africa</td>\n",
       "      <td>0</td>\n",
       "      <td>1237258</td>\n",
       "      <td>-1</td>\n",
       "      <td>ITCHY BOOTS  New Season: this is where I am go...</td>\n",
       "    </tr>\n",
       "    <tr>\n",
       "      <th>1</th>\n",
       "      <td>SEASON 7 - Return to Africa</td>\n",
       "      <td>I need their help. |S7 - E2|</td>\n",
       "      <td>4 months</td>\n",
       "      <td>19</td>\n",
       "      <td>s 1,548,717 views</td>\n",
       "      <td>7</td>\n",
       "      <td>Return to Africa</td>\n",
       "      <td>0</td>\n",
       "      <td>1548717</td>\n",
       "      <td>2</td>\n",
       "      <td>I need their help.</td>\n",
       "    </tr>\n",
       "    <tr>\n",
       "      <th>2</th>\n",
       "      <td>SEASON 7 - Return to Africa</td>\n",
       "      <td>No motorcyclists have gone here before |S7 - E3|</td>\n",
       "      <td>4 months</td>\n",
       "      <td>25</td>\n",
       "      <td>s 905,116 views</td>\n",
       "      <td>7</td>\n",
       "      <td>Return to Africa</td>\n",
       "      <td>0</td>\n",
       "      <td>905116</td>\n",
       "      <td>3</td>\n",
       "      <td>No motorcyclists have gone here before</td>\n",
       "    </tr>\n",
       "    <tr>\n",
       "      <th>3</th>\n",
       "      <td>SEASON 7 - Return to Africa</td>\n",
       "      <td>How I ended up in a Berber village in Morocco ...</td>\n",
       "      <td>4 months</td>\n",
       "      <td>18</td>\n",
       "      <td>s 790,900 views</td>\n",
       "      <td>7</td>\n",
       "      <td>Return to Africa</td>\n",
       "      <td>0</td>\n",
       "      <td>790900</td>\n",
       "      <td>4</td>\n",
       "      <td>How I ended up in a Berber village in Morocco</td>\n",
       "    </tr>\n",
       "    <tr>\n",
       "      <th>4</th>\n",
       "      <td>SEASON 7 - Return to Africa</td>\n",
       "      <td>Motorcycling solo into the Sahara Desert of Mo...</td>\n",
       "      <td>4 months</td>\n",
       "      <td>18</td>\n",
       "      <td>s 648,198 views</td>\n",
       "      <td>7</td>\n",
       "      <td>Return to Africa</td>\n",
       "      <td>0</td>\n",
       "      <td>648198</td>\n",
       "      <td>5</td>\n",
       "      <td>Motorcycling solo into the Sahara Desert of Mo...</td>\n",
       "    </tr>\n",
       "  </tbody>\n",
       "</table>\n",
       "</div>"
      ],
      "text/plain": [
       "                        season  \\\n",
       "0  SEASON 7 - Return to Africa   \n",
       "1  SEASON 7 - Return to Africa   \n",
       "2  SEASON 7 - Return to Africa   \n",
       "3  SEASON 7 - Return to Africa   \n",
       "4  SEASON 7 - Return to Africa   \n",
       "\n",
       "                                             episode        date  time  \\\n",
       "0  ITCHY BOOTS  New Season: this is where I am go...   4 months     20   \n",
       "1                      I need their help. |S7 - E2|    4 months     19   \n",
       "2  No motorcyclists have gone here before |S7 - E3|    4 months     25   \n",
       "3  How I ended up in a Berber village in Morocco ...   4 months     18   \n",
       "4  Motorcycling solo into the Sahara Desert of Mo...   4 months     18   \n",
       "\n",
       "              rating  season_no      season_title  uploading_date     rate  E  \\\n",
       "0  s 1,237,258 views          7  Return to Africa               0  1237258 -1   \n",
       "1  s 1,548,717 views          7  Return to Africa               0  1548717  2   \n",
       "2    s 905,116 views          7  Return to Africa               0   905116  3   \n",
       "3    s 790,900 views          7  Return to Africa               0   790900  4   \n",
       "4    s 648,198 views          7  Return to Africa               0   648198  5   \n",
       "\n",
       "                                               title  \n",
       "0  ITCHY BOOTS  New Season: this is where I am go...  \n",
       "1                                I need their help.   \n",
       "2            No motorcyclists have gone here before   \n",
       "3     How I ended up in a Berber village in Morocco   \n",
       "4  Motorcycling solo into the Sahara Desert of Mo...  "
      ]
     },
     "execution_count": 77,
     "metadata": {},
     "output_type": "execute_result"
    }
   ],
   "source": [
    "itchy_boots.head()"
   ]
  },
  {
   "cell_type": "markdown",
   "id": "65350d8a-1b3c-4ae3-be69-598cdbcc2f9e",
   "metadata": {},
   "source": [
    "# 3. Veriyi kaydetme"
   ]
  },
  {
   "cell_type": "code",
   "execution_count": 78,
   "id": "922d6f92-ea43-45bd-859e-aaf33bc362a5",
   "metadata": {},
   "outputs": [],
   "source": [
    "itchy_boots.to_csv('datasets/itchy_boots.csv')"
   ]
  },
  {
   "cell_type": "code",
   "execution_count": null,
   "id": "dbe4371c-f238-4fc9-8c0e-cec87a823ef8",
   "metadata": {},
   "outputs": [],
   "source": []
  }
 ],
 "metadata": {
  "kernelspec": {
   "display_name": "Python 3 (ipykernel)",
   "language": "python",
   "name": "python3"
  },
  "language_info": {
   "codemirror_mode": {
    "name": "ipython",
    "version": 3
   },
   "file_extension": ".py",
   "mimetype": "text/x-python",
   "name": "python",
   "nbconvert_exporter": "python",
   "pygments_lexer": "ipython3",
   "version": "3.11.4"
  }
 },
 "nbformat": 4,
 "nbformat_minor": 5
}
