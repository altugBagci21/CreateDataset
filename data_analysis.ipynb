{
 "cells": [
  {
   "cell_type": "markdown",
   "id": "c33e9624-6a1f-480e-9465-0f39afb81fd3",
   "metadata": {},
   "source": [
    "# Itchy Boots Analysis"
   ]
  },
  {
   "cell_type": "code",
   "execution_count": 2,
   "id": "0bffec84-e0a1-475f-a433-916b092b82ad",
   "metadata": {},
   "outputs": [],
   "source": [
    "import pandas as pd\n",
    "import matplotlib.pyplot as plt"
   ]
  },
  {
   "cell_type": "markdown",
   "id": "7d443dc2-2659-40be-98bd-c40b7be8661a",
   "metadata": {},
   "source": [
    "# 1. Veriyi yükleme"
   ]
  },
  {
   "cell_type": "code",
   "execution_count": 3,
   "id": "e4abecaa-750b-4719-8372-a3dbb33592b2",
   "metadata": {},
   "outputs": [],
   "source": [
    "data = pd.read_csv('datasets/itchy_boots_ready.csv')"
   ]
  },
  {
   "cell_type": "code",
   "execution_count": 4,
   "id": "7fefe545-edb8-4d92-b164-eab2f2faf325",
   "metadata": {},
   "outputs": [
    {
     "data": {
      "text/html": [
       "<div>\n",
       "<style scoped>\n",
       "    .dataframe tbody tr th:only-of-type {\n",
       "        vertical-align: middle;\n",
       "    }\n",
       "\n",
       "    .dataframe tbody tr th {\n",
       "        vertical-align: top;\n",
       "    }\n",
       "\n",
       "    .dataframe thead th {\n",
       "        text-align: right;\n",
       "    }\n",
       "</style>\n",
       "<table border=\"1\" class=\"dataframe\">\n",
       "  <thead>\n",
       "    <tr style=\"text-align: right;\">\n",
       "      <th></th>\n",
       "      <th>Unnamed: 0.1</th>\n",
       "      <th>Unnamed: 0</th>\n",
       "      <th>season_no</th>\n",
       "      <th>season_title</th>\n",
       "      <th>uploading_date</th>\n",
       "      <th>rate</th>\n",
       "      <th>E</th>\n",
       "      <th>title</th>\n",
       "    </tr>\n",
       "  </thead>\n",
       "  <tbody>\n",
       "    <tr>\n",
       "      <th>0</th>\n",
       "      <td>0</td>\n",
       "      <td>0</td>\n",
       "      <td>7</td>\n",
       "      <td>Return to Africa</td>\n",
       "      <td>0</td>\n",
       "      <td>1237258</td>\n",
       "      <td>-1</td>\n",
       "      <td>ITCHY BOOTS  New Season: this is where I am go...</td>\n",
       "    </tr>\n",
       "    <tr>\n",
       "      <th>1</th>\n",
       "      <td>1</td>\n",
       "      <td>1</td>\n",
       "      <td>7</td>\n",
       "      <td>Return to Africa</td>\n",
       "      <td>0</td>\n",
       "      <td>1548717</td>\n",
       "      <td>2</td>\n",
       "      <td>I need their help.</td>\n",
       "    </tr>\n",
       "    <tr>\n",
       "      <th>2</th>\n",
       "      <td>2</td>\n",
       "      <td>2</td>\n",
       "      <td>7</td>\n",
       "      <td>Return to Africa</td>\n",
       "      <td>0</td>\n",
       "      <td>905116</td>\n",
       "      <td>3</td>\n",
       "      <td>No motorcyclists have gone here before</td>\n",
       "    </tr>\n",
       "    <tr>\n",
       "      <th>3</th>\n",
       "      <td>3</td>\n",
       "      <td>3</td>\n",
       "      <td>7</td>\n",
       "      <td>Return to Africa</td>\n",
       "      <td>0</td>\n",
       "      <td>790900</td>\n",
       "      <td>4</td>\n",
       "      <td>How I ended up in a Berber village in Morocco</td>\n",
       "    </tr>\n",
       "    <tr>\n",
       "      <th>4</th>\n",
       "      <td>4</td>\n",
       "      <td>4</td>\n",
       "      <td>7</td>\n",
       "      <td>Return to Africa</td>\n",
       "      <td>0</td>\n",
       "      <td>648198</td>\n",
       "      <td>5</td>\n",
       "      <td>Motorcycling solo into the Sahara Desert of Mo...</td>\n",
       "    </tr>\n",
       "  </tbody>\n",
       "</table>\n",
       "</div>"
      ],
      "text/plain": [
       "   Unnamed: 0.1  Unnamed: 0  season_no      season_title  uploading_date  \\\n",
       "0             0           0          7  Return to Africa               0   \n",
       "1             1           1          7  Return to Africa               0   \n",
       "2             2           2          7  Return to Africa               0   \n",
       "3             3           3          7  Return to Africa               0   \n",
       "4             4           4          7  Return to Africa               0   \n",
       "\n",
       "      rate  E                                              title  \n",
       "0  1237258 -1  ITCHY BOOTS  New Season: this is where I am go...  \n",
       "1  1548717  2                                I need their help.   \n",
       "2   905116  3            No motorcyclists have gone here before   \n",
       "3   790900  4     How I ended up in a Berber village in Morocco   \n",
       "4   648198  5  Motorcycling solo into the Sahara Desert of Mo...  "
      ]
     },
     "execution_count": 4,
     "metadata": {},
     "output_type": "execute_result"
    }
   ],
   "source": [
    "data.head()"
   ]
  },
  {
   "cell_type": "code",
   "execution_count": 8,
   "id": "8748152a-2833-4a07-97c9-ad64d434c6c9",
   "metadata": {},
   "outputs": [],
   "source": [
    "data = data.iloc[:,1:]"
   ]
  },
  {
   "cell_type": "markdown",
   "id": "c5c46fd9-a215-408f-bad5-2c0fe9d714bc",
   "metadata": {},
   "source": [
    "# 2. EDA"
   ]
  },
  {
   "cell_type": "code",
   "execution_count": 9,
   "id": "7c1d6912-1151-4f9a-b188-8ea5b1f86ad0",
   "metadata": {},
   "outputs": [
    {
     "name": "stdout",
     "output_type": "stream",
     "text": [
      "<class 'pandas.core.frame.DataFrame'>\n",
      "RangeIndex: 471 entries, 0 to 470\n",
      "Data columns (total 6 columns):\n",
      " #   Column          Non-Null Count  Dtype \n",
      "---  ------          --------------  ----- \n",
      " 0   season_no       471 non-null    int64 \n",
      " 1   season_title    471 non-null    object\n",
      " 2   uploading_date  471 non-null    int64 \n",
      " 3   rate            471 non-null    int64 \n",
      " 4   E               471 non-null    int64 \n",
      " 5   title           471 non-null    object\n",
      "dtypes: int64(4), object(2)\n",
      "memory usage: 22.2+ KB\n"
     ]
    }
   ],
   "source": [
    "data.info()"
   ]
  },
  {
   "cell_type": "code",
   "execution_count": 10,
   "id": "0eb6f9e3-cde4-49e3-a0bd-2bfeca6bb31a",
   "metadata": {},
   "outputs": [
    {
     "data": {
      "text/plain": [
       "season_no         0\n",
       "season_title      0\n",
       "uploading_date    0\n",
       "rate              0\n",
       "E                 0\n",
       "title             0\n",
       "dtype: int64"
      ]
     },
     "execution_count": 10,
     "metadata": {},
     "output_type": "execute_result"
    }
   ],
   "source": [
    "data.isnull().sum()"
   ]
  },
  {
   "cell_type": "code",
   "execution_count": 11,
   "id": "84886fc4-43a8-4c96-84f6-8dbd17f8bb4f",
   "metadata": {},
   "outputs": [
    {
     "data": {
      "text/html": [
       "<div>\n",
       "<style scoped>\n",
       "    .dataframe tbody tr th:only-of-type {\n",
       "        vertical-align: middle;\n",
       "    }\n",
       "\n",
       "    .dataframe tbody tr th {\n",
       "        vertical-align: top;\n",
       "    }\n",
       "\n",
       "    .dataframe thead th {\n",
       "        text-align: right;\n",
       "    }\n",
       "</style>\n",
       "<table border=\"1\" class=\"dataframe\">\n",
       "  <thead>\n",
       "    <tr style=\"text-align: right;\">\n",
       "      <th></th>\n",
       "      <th>count</th>\n",
       "      <th>mean</th>\n",
       "      <th>std</th>\n",
       "      <th>min</th>\n",
       "      <th>25%</th>\n",
       "      <th>50%</th>\n",
       "      <th>75%</th>\n",
       "      <th>max</th>\n",
       "    </tr>\n",
       "  </thead>\n",
       "  <tbody>\n",
       "    <tr>\n",
       "      <th>season_no</th>\n",
       "      <td>471.0</td>\n",
       "      <td>3.825902</td>\n",
       "      <td>2.187841</td>\n",
       "      <td>0.0</td>\n",
       "      <td>2.0</td>\n",
       "      <td>5.0</td>\n",
       "      <td>6.0</td>\n",
       "      <td>7.0</td>\n",
       "    </tr>\n",
       "    <tr>\n",
       "      <th>uploading_date</th>\n",
       "      <td>471.0</td>\n",
       "      <td>2.084926</td>\n",
       "      <td>1.326171</td>\n",
       "      <td>0.0</td>\n",
       "      <td>1.0</td>\n",
       "      <td>2.0</td>\n",
       "      <td>3.0</td>\n",
       "      <td>4.0</td>\n",
       "    </tr>\n",
       "    <tr>\n",
       "      <th>rate</th>\n",
       "      <td>471.0</td>\n",
       "      <td>595759.838641</td>\n",
       "      <td>514878.502849</td>\n",
       "      <td>167728.0</td>\n",
       "      <td>328092.0</td>\n",
       "      <td>446148.0</td>\n",
       "      <td>659515.5</td>\n",
       "      <td>5916220.0</td>\n",
       "    </tr>\n",
       "    <tr>\n",
       "      <th>E</th>\n",
       "      <td>471.0</td>\n",
       "      <td>38.732484</td>\n",
       "      <td>27.707296</td>\n",
       "      <td>-1.0</td>\n",
       "      <td>15.0</td>\n",
       "      <td>35.0</td>\n",
       "      <td>61.0</td>\n",
       "      <td>100.0</td>\n",
       "    </tr>\n",
       "  </tbody>\n",
       "</table>\n",
       "</div>"
      ],
      "text/plain": [
       "                count           mean            std       min       25%  \\\n",
       "season_no       471.0       3.825902       2.187841       0.0       2.0   \n",
       "uploading_date  471.0       2.084926       1.326171       0.0       1.0   \n",
       "rate            471.0  595759.838641  514878.502849  167728.0  328092.0   \n",
       "E               471.0      38.732484      27.707296      -1.0      15.0   \n",
       "\n",
       "                     50%       75%        max  \n",
       "season_no            5.0       6.0        7.0  \n",
       "uploading_date       2.0       3.0        4.0  \n",
       "rate            446148.0  659515.5  5916220.0  \n",
       "E                   35.0      61.0      100.0  "
      ]
     },
     "execution_count": 11,
     "metadata": {},
     "output_type": "execute_result"
    }
   ],
   "source": [
    "# Burada sadece time ve rate değişkenleri anlamlı. Sezon ve bölüm sayılarının ortalamasından çok anlamlı bir şey beklemiyorum.\n",
    "data.describe().T"
   ]
  },
  {
   "cell_type": "code",
   "execution_count": 12,
   "id": "31e06913-d124-4f5b-90c1-f7e061bd6959",
   "metadata": {},
   "outputs": [
    {
     "data": {
      "text/plain": [
       "season_title\n",
       "Project Alaska                                       100\n",
       "India to Europe                                      100\n",
       "Southern Africa                                       96\n",
       "Patagonia to Alaska                                   77\n",
       "Return to Africa                                      46\n",
       "Denmark, Iceland, Norway & Sweden                     34\n",
       "The Dutch Moto Scene                                  11\n",
       "['Adventure Intermezzo: Tour of The Netherlands']      7\n",
       "Name: count, dtype: int64"
      ]
     },
     "execution_count": 12,
     "metadata": {},
     "output_type": "execute_result"
    }
   ],
   "source": [
    "# Hangi sezonda ne kadar bölüm olduğu bilgisi\n",
    "data.season_title.value_counts()"
   ]
  },
  {
   "cell_type": "code",
   "execution_count": 13,
   "id": "e6402a3d-f23a-4f78-854d-40b9723064a5",
   "metadata": {},
   "outputs": [
    {
     "data": {
      "text/plain": [
       "season_no\n",
       "6    100\n",
       "1    100\n",
       "5     96\n",
       "2     77\n",
       "7     46\n",
       "3     34\n",
       "4     11\n",
       "0      7\n",
       "Name: count, dtype: int64"
      ]
     },
     "execution_count": 13,
     "metadata": {},
     "output_type": "execute_result"
    }
   ],
   "source": [
    "# 0 sezonu aslında küçük bir ara sezon ve 0 da değil. \n",
    "data.season_no.value_counts()"
   ]
  },
  {
   "cell_type": "code",
   "execution_count": 34,
   "id": "c2d76e26-5d87-4756-a6f7-f1fcc8e1e723",
   "metadata": {},
   "outputs": [
    {
     "data": {
      "text/plain": [
       "uploading_date\n",
       "1    142\n",
       "4    100\n",
       "2     94\n",
       "3     84\n",
       "0     51\n",
       "Name: count, dtype: int64"
      ]
     },
     "execution_count": 34,
     "metadata": {},
     "output_type": "execute_result"
    }
   ],
   "source": [
    "# Değerlerde anlamsız sonuçlar var mı?\n",
    "data.uploading_date.value_counts()"
   ]
  },
  {
   "cell_type": "code",
   "execution_count": 35,
   "id": "2df5da12-0d46-4c26-bb56-7c290529c58d",
   "metadata": {},
   "outputs": [
    {
     "data": {
      "text/plain": [
       "(167728, 5916220)"
      ]
     },
     "execution_count": 35,
     "metadata": {},
     "output_type": "execute_result"
    }
   ],
   "source": [
    "# Her bir videonun rating'i sayısal ve devamlı olduğu için min ve max \n",
    "data.rate.min(), data.rate.max()"
   ]
  },
  {
   "cell_type": "code",
   "execution_count": 14,
   "id": "e24dd8fd-9568-4758-8439-e5c24ebb8c7f",
   "metadata": {},
   "outputs": [
    {
     "data": {
      "text/plain": [
       "E\n",
       "-1      17\n",
       " 3       8\n",
       " 4       8\n",
       " 5       8\n",
       " 6       8\n",
       "        ..\n",
       " 89      2\n",
       " 88      2\n",
       " 87      2\n",
       " 99      1\n",
       " 100     1\n",
       "Name: count, Length: 101, dtype: int64"
      ]
     },
     "execution_count": 14,
     "metadata": {},
     "output_type": "execute_result"
    }
   ],
   "source": [
    "# 26 tane -1 çözülmesi gereken bir sorun, bu incelenmeli\n",
    "data.E.value_counts()"
   ]
  },
  {
   "cell_type": "code",
   "execution_count": 15,
   "id": "d155361b-c903-41f9-a1e0-255eee7b552a",
   "metadata": {},
   "outputs": [
    {
     "data": {
      "text/html": [
       "<div>\n",
       "<style scoped>\n",
       "    .dataframe tbody tr th:only-of-type {\n",
       "        vertical-align: middle;\n",
       "    }\n",
       "\n",
       "    .dataframe tbody tr th {\n",
       "        vertical-align: top;\n",
       "    }\n",
       "\n",
       "    .dataframe thead th {\n",
       "        text-align: right;\n",
       "    }\n",
       "</style>\n",
       "<table border=\"1\" class=\"dataframe\">\n",
       "  <thead>\n",
       "    <tr style=\"text-align: right;\">\n",
       "      <th></th>\n",
       "      <th>season_no</th>\n",
       "      <th>season_title</th>\n",
       "      <th>uploading_date</th>\n",
       "      <th>rate</th>\n",
       "      <th>E</th>\n",
       "      <th>title</th>\n",
       "    </tr>\n",
       "  </thead>\n",
       "  <tbody>\n",
       "    <tr>\n",
       "      <th>0</th>\n",
       "      <td>7</td>\n",
       "      <td>Return to Africa</td>\n",
       "      <td>0</td>\n",
       "      <td>1237258</td>\n",
       "      <td>-1</td>\n",
       "      <td>ITCHY BOOTS  New Season: this is where I am go...</td>\n",
       "    </tr>\n",
       "    <tr>\n",
       "      <th>232</th>\n",
       "      <td>5</td>\n",
       "      <td>Southern Africa</td>\n",
       "      <td>1</td>\n",
       "      <td>2075226</td>\n",
       "      <td>-1</td>\n",
       "      <td>22.000 kilometer solo motorcycle journey throu...</td>\n",
       "    </tr>\n",
       "    <tr>\n",
       "      <th>233</th>\n",
       "      <td>5</td>\n",
       "      <td>Southern Africa</td>\n",
       "      <td>1</td>\n",
       "      <td>504332</td>\n",
       "      <td>-1</td>\n",
       "      <td>READY for the KALAHARI RALLY?!</td>\n",
       "    </tr>\n",
       "    <tr>\n",
       "      <th>234</th>\n",
       "      <td>5</td>\n",
       "      <td>Southern Africa</td>\n",
       "      <td>1</td>\n",
       "      <td>399974</td>\n",
       "      <td>-1</td>\n",
       "      <td>Itchy Boots rides Kalahari Rally 2021 - SUPER ...</td>\n",
       "    </tr>\n",
       "    <tr>\n",
       "      <th>235</th>\n",
       "      <td>5</td>\n",
       "      <td>Southern Africa</td>\n",
       "      <td>1</td>\n",
       "      <td>306642</td>\n",
       "      <td>-1</td>\n",
       "      <td>Itchy Boots rides KALAHARI RALLY - Stage 1. TR...</td>\n",
       "    </tr>\n",
       "    <tr>\n",
       "      <th>236</th>\n",
       "      <td>5</td>\n",
       "      <td>Southern Africa</td>\n",
       "      <td>1</td>\n",
       "      <td>349367</td>\n",
       "      <td>-1</td>\n",
       "      <td>Itchy Boots rides KALAHARI RALLY - Stage 2. Ra...</td>\n",
       "    </tr>\n",
       "    <tr>\n",
       "      <th>237</th>\n",
       "      <td>5</td>\n",
       "      <td>Southern Africa</td>\n",
       "      <td>1</td>\n",
       "      <td>315992</td>\n",
       "      <td>-1</td>\n",
       "      <td>Riding KALAHARI DESERT DUNES on a CRF250L - St...</td>\n",
       "    </tr>\n",
       "    <tr>\n",
       "      <th>238</th>\n",
       "      <td>5</td>\n",
       "      <td>Southern Africa</td>\n",
       "      <td>1</td>\n",
       "      <td>330551</td>\n",
       "      <td>-1</td>\n",
       "      <td>KTM EXC 450 vs. Honda CRF250L in KALAHARI RALL...</td>\n",
       "    </tr>\n",
       "    <tr>\n",
       "      <th>239</th>\n",
       "      <td>5</td>\n",
       "      <td>Southern Africa</td>\n",
       "      <td>1</td>\n",
       "      <td>345388</td>\n",
       "      <td>-1</td>\n",
       "      <td>PROBLEMS on the longest stage.. Itchy Boots ri...</td>\n",
       "    </tr>\n",
       "    <tr>\n",
       "      <th>240</th>\n",
       "      <td>5</td>\n",
       "      <td>Southern Africa</td>\n",
       "      <td>1</td>\n",
       "      <td>611545</td>\n",
       "      <td>-1</td>\n",
       "      <td>I BROKE my Honda CRF250L into two pieces. Kala...</td>\n",
       "    </tr>\n",
       "    <tr>\n",
       "      <th>241</th>\n",
       "      <td>5</td>\n",
       "      <td>Southern Africa</td>\n",
       "      <td>1</td>\n",
       "      <td>966940</td>\n",
       "      <td>-1</td>\n",
       "      <td>It's over. Itchy Boots - SEASON 5 FINALE</td>\n",
       "    </tr>\n",
       "    <tr>\n",
       "      <th>249</th>\n",
       "      <td>4</td>\n",
       "      <td>The Dutch Moto Scene</td>\n",
       "      <td>2</td>\n",
       "      <td>241712</td>\n",
       "      <td>-1</td>\n",
       "      <td>Itchy Boots CHRISTMAS SPECIAL</td>\n",
       "    </tr>\n",
       "    <tr>\n",
       "      <th>253</th>\n",
       "      <td>3</td>\n",
       "      <td>Denmark, Iceland, Norway &amp; Sweden</td>\n",
       "      <td>2</td>\n",
       "      <td>225440</td>\n",
       "      <td>-1</td>\n",
       "      <td>Season 3 - SNEAK PREVIEW!</td>\n",
       "    </tr>\n",
       "    <tr>\n",
       "      <th>285</th>\n",
       "      <td>3</td>\n",
       "      <td>Denmark, Iceland, Norway &amp; Sweden</td>\n",
       "      <td>2</td>\n",
       "      <td>401879</td>\n",
       "      <td>-1</td>\n",
       "      <td>1700 kilometres in 4 days: I'm BACK!</td>\n",
       "    </tr>\n",
       "    <tr>\n",
       "      <th>294</th>\n",
       "      <td>2</td>\n",
       "      <td>Patagonia to Alaska</td>\n",
       "      <td>3</td>\n",
       "      <td>735742</td>\n",
       "      <td>-1</td>\n",
       "      <td>BIG NEWS!! (Good and bad...)</td>\n",
       "    </tr>\n",
       "    <tr>\n",
       "      <th>410</th>\n",
       "      <td>1</td>\n",
       "      <td>India to Europe</td>\n",
       "      <td>4</td>\n",
       "      <td>425697</td>\n",
       "      <td>-1</td>\n",
       "      <td>INDIA TO MALAYSIA - A solo motorcycle ride on ...</td>\n",
       "    </tr>\n",
       "    <tr>\n",
       "      <th>418</th>\n",
       "      <td>1</td>\n",
       "      <td>India to Europe</td>\n",
       "      <td>4</td>\n",
       "      <td>554656</td>\n",
       "      <td>-1</td>\n",
       "      <td>S1 - Installing PowerTRONIC ECU on the Royal E...</td>\n",
       "    </tr>\n",
       "  </tbody>\n",
       "</table>\n",
       "</div>"
      ],
      "text/plain": [
       "     season_no                       season_title  uploading_date     rate  E  \\\n",
       "0            7                   Return to Africa               0  1237258 -1   \n",
       "232          5                    Southern Africa               1  2075226 -1   \n",
       "233          5                    Southern Africa               1   504332 -1   \n",
       "234          5                    Southern Africa               1   399974 -1   \n",
       "235          5                    Southern Africa               1   306642 -1   \n",
       "236          5                    Southern Africa               1   349367 -1   \n",
       "237          5                    Southern Africa               1   315992 -1   \n",
       "238          5                    Southern Africa               1   330551 -1   \n",
       "239          5                    Southern Africa               1   345388 -1   \n",
       "240          5                    Southern Africa               1   611545 -1   \n",
       "241          5                    Southern Africa               1   966940 -1   \n",
       "249          4               The Dutch Moto Scene               2   241712 -1   \n",
       "253          3  Denmark, Iceland, Norway & Sweden               2   225440 -1   \n",
       "285          3  Denmark, Iceland, Norway & Sweden               2   401879 -1   \n",
       "294          2                Patagonia to Alaska               3   735742 -1   \n",
       "410          1                    India to Europe               4   425697 -1   \n",
       "418          1                    India to Europe               4   554656 -1   \n",
       "\n",
       "                                                 title  \n",
       "0    ITCHY BOOTS  New Season: this is where I am go...  \n",
       "232  22.000 kilometer solo motorcycle journey throu...  \n",
       "233                    READY for the KALAHARI RALLY?!   \n",
       "234  Itchy Boots rides Kalahari Rally 2021 - SUPER ...  \n",
       "235  Itchy Boots rides KALAHARI RALLY - Stage 1. TR...  \n",
       "236  Itchy Boots rides KALAHARI RALLY - Stage 2. Ra...  \n",
       "237  Riding KALAHARI DESERT DUNES on a CRF250L - St...  \n",
       "238  KTM EXC 450 vs. Honda CRF250L in KALAHARI RALL...  \n",
       "239  PROBLEMS on the longest stage.. Itchy Boots ri...  \n",
       "240  I BROKE my Honda CRF250L into two pieces. Kala...  \n",
       "241          It's over. Itchy Boots - SEASON 5 FINALE   \n",
       "249                     Itchy Boots CHRISTMAS SPECIAL   \n",
       "253                         Season 3 - SNEAK PREVIEW!   \n",
       "285              1700 kilometres in 4 days: I'm BACK!   \n",
       "294                      BIG NEWS!! (Good and bad...)   \n",
       "410  INDIA TO MALAYSIA - A solo motorcycle ride on ...  \n",
       "418  S1 - Installing PowerTRONIC ECU on the Royal E...  "
      ]
     },
     "execution_count": 15,
     "metadata": {},
     "output_type": "execute_result"
    }
   ],
   "source": [
    "data[data.E == -1]"
   ]
  },
  {
   "cell_type": "code",
   "execution_count": null,
   "id": "99ab198d-edc6-4a8d-ae8a-53043c4fdb9e",
   "metadata": {},
   "outputs": [],
   "source": []
  }
 ],
 "metadata": {
  "kernelspec": {
   "display_name": "Python 3 (ipykernel)",
   "language": "python",
   "name": "python3"
  },
  "language_info": {
   "codemirror_mode": {
    "name": "ipython",
    "version": 3
   },
   "file_extension": ".py",
   "mimetype": "text/x-python",
   "name": "python",
   "nbconvert_exporter": "python",
   "pygments_lexer": "ipython3",
   "version": "3.11.4"
  }
 },
 "nbformat": 4,
 "nbformat_minor": 5
}
