{
 "cells": [
  {
   "cell_type": "markdown",
   "id": "c33e9624-6a1f-480e-9465-0f39afb81fd3",
   "metadata": {},
   "source": [
    "# Itchy Boots Analysis"
   ]
  },
  {
   "cell_type": "code",
   "execution_count": 68,
   "id": "0bffec84-e0a1-475f-a433-916b092b82ad",
   "metadata": {},
   "outputs": [],
   "source": [
    "import pandas as pd\n",
    "import matplotlib.pyplot as plt"
   ]
  },
  {
   "cell_type": "markdown",
   "id": "7d443dc2-2659-40be-98bd-c40b7be8661a",
   "metadata": {},
   "source": [
    "# 1. Veriyi yükleme"
   ]
  },
  {
   "cell_type": "code",
   "execution_count": 69,
   "id": "e4abecaa-750b-4719-8372-a3dbb33592b2",
   "metadata": {},
   "outputs": [],
   "source": [
    "data = pd.read_csv('datasets/itchy_boots_ready.csv')"
   ]
  },
  {
   "cell_type": "code",
   "execution_count": 70,
   "id": "7fefe545-edb8-4d92-b164-eab2f2faf325",
   "metadata": {},
   "outputs": [
    {
     "data": {
      "text/html": [
       "<div>\n",
       "<style scoped>\n",
       "    .dataframe tbody tr th:only-of-type {\n",
       "        vertical-align: middle;\n",
       "    }\n",
       "\n",
       "    .dataframe tbody tr th {\n",
       "        vertical-align: top;\n",
       "    }\n",
       "\n",
       "    .dataframe thead th {\n",
       "        text-align: right;\n",
       "    }\n",
       "</style>\n",
       "<table border=\"1\" class=\"dataframe\">\n",
       "  <thead>\n",
       "    <tr style=\"text-align: right;\">\n",
       "      <th></th>\n",
       "      <th>Unnamed: 0.1</th>\n",
       "      <th>Unnamed: 0</th>\n",
       "      <th>season_no</th>\n",
       "      <th>season_title</th>\n",
       "      <th>uploading_date</th>\n",
       "      <th>rate</th>\n",
       "      <th>time</th>\n",
       "      <th>E</th>\n",
       "      <th>title</th>\n",
       "    </tr>\n",
       "  </thead>\n",
       "  <tbody>\n",
       "    <tr>\n",
       "      <th>0</th>\n",
       "      <td>0</td>\n",
       "      <td>0</td>\n",
       "      <td>7</td>\n",
       "      <td>Return to Africa</td>\n",
       "      <td>0</td>\n",
       "      <td>1237258</td>\n",
       "      <td>20</td>\n",
       "      <td>-1</td>\n",
       "      <td>ITCHY BOOTS  New Season: this is where I am go...</td>\n",
       "    </tr>\n",
       "    <tr>\n",
       "      <th>1</th>\n",
       "      <td>1</td>\n",
       "      <td>1</td>\n",
       "      <td>7</td>\n",
       "      <td>Return to Africa</td>\n",
       "      <td>0</td>\n",
       "      <td>1548717</td>\n",
       "      <td>19</td>\n",
       "      <td>2</td>\n",
       "      <td>I need their help.</td>\n",
       "    </tr>\n",
       "    <tr>\n",
       "      <th>2</th>\n",
       "      <td>2</td>\n",
       "      <td>2</td>\n",
       "      <td>7</td>\n",
       "      <td>Return to Africa</td>\n",
       "      <td>0</td>\n",
       "      <td>905116</td>\n",
       "      <td>25</td>\n",
       "      <td>3</td>\n",
       "      <td>No motorcyclists have gone here before</td>\n",
       "    </tr>\n",
       "    <tr>\n",
       "      <th>3</th>\n",
       "      <td>3</td>\n",
       "      <td>3</td>\n",
       "      <td>7</td>\n",
       "      <td>Return to Africa</td>\n",
       "      <td>0</td>\n",
       "      <td>790900</td>\n",
       "      <td>18</td>\n",
       "      <td>4</td>\n",
       "      <td>How I ended up in a Berber village in Morocco</td>\n",
       "    </tr>\n",
       "    <tr>\n",
       "      <th>4</th>\n",
       "      <td>4</td>\n",
       "      <td>4</td>\n",
       "      <td>7</td>\n",
       "      <td>Return to Africa</td>\n",
       "      <td>0</td>\n",
       "      <td>648198</td>\n",
       "      <td>18</td>\n",
       "      <td>5</td>\n",
       "      <td>Motorcycling solo into the Sahara Desert of Mo...</td>\n",
       "    </tr>\n",
       "  </tbody>\n",
       "</table>\n",
       "</div>"
      ],
      "text/plain": [
       "   Unnamed: 0.1  Unnamed: 0  season_no      season_title  uploading_date  \\\n",
       "0             0           0          7  Return to Africa               0   \n",
       "1             1           1          7  Return to Africa               0   \n",
       "2             2           2          7  Return to Africa               0   \n",
       "3             3           3          7  Return to Africa               0   \n",
       "4             4           4          7  Return to Africa               0   \n",
       "\n",
       "      rate  time  E                                              title  \n",
       "0  1237258    20 -1  ITCHY BOOTS  New Season: this is where I am go...  \n",
       "1  1548717    19  2                                I need their help.   \n",
       "2   905116    25  3            No motorcyclists have gone here before   \n",
       "3   790900    18  4     How I ended up in a Berber village in Morocco   \n",
       "4   648198    18  5  Motorcycling solo into the Sahara Desert of Mo...  "
      ]
     },
     "execution_count": 70,
     "metadata": {},
     "output_type": "execute_result"
    }
   ],
   "source": [
    "data.head()"
   ]
  },
  {
   "cell_type": "code",
   "execution_count": 71,
   "id": "8748152a-2833-4a07-97c9-ad64d434c6c9",
   "metadata": {},
   "outputs": [],
   "source": [
    "data = data.iloc[:,1:]"
   ]
  },
  {
   "cell_type": "markdown",
   "id": "c5c46fd9-a215-408f-bad5-2c0fe9d714bc",
   "metadata": {},
   "source": [
    "# 2. EDA"
   ]
  },
  {
   "cell_type": "code",
   "execution_count": 72,
   "id": "7c1d6912-1151-4f9a-b188-8ea5b1f86ad0",
   "metadata": {},
   "outputs": [
    {
     "name": "stdout",
     "output_type": "stream",
     "text": [
      "<class 'pandas.core.frame.DataFrame'>\n",
      "RangeIndex: 471 entries, 0 to 470\n",
      "Data columns (total 8 columns):\n",
      " #   Column          Non-Null Count  Dtype \n",
      "---  ------          --------------  ----- \n",
      " 0   Unnamed: 0      471 non-null    int64 \n",
      " 1   season_no       471 non-null    int64 \n",
      " 2   season_title    471 non-null    object\n",
      " 3   uploading_date  471 non-null    int64 \n",
      " 4   rate            471 non-null    int64 \n",
      " 5   time            471 non-null    int64 \n",
      " 6   E               471 non-null    int64 \n",
      " 7   title           471 non-null    object\n",
      "dtypes: int64(6), object(2)\n",
      "memory usage: 29.6+ KB\n"
     ]
    }
   ],
   "source": [
    "data.info()"
   ]
  },
  {
   "cell_type": "code",
   "execution_count": 73,
   "id": "0eb6f9e3-cde4-49e3-a0bd-2bfeca6bb31a",
   "metadata": {},
   "outputs": [
    {
     "data": {
      "text/plain": [
       "Unnamed: 0        0\n",
       "season_no         0\n",
       "season_title      0\n",
       "uploading_date    0\n",
       "rate              0\n",
       "time              0\n",
       "E                 0\n",
       "title             0\n",
       "dtype: int64"
      ]
     },
     "execution_count": 73,
     "metadata": {},
     "output_type": "execute_result"
    }
   ],
   "source": [
    "data.isnull().sum()"
   ]
  },
  {
   "cell_type": "code",
   "execution_count": 74,
   "id": "84886fc4-43a8-4c96-84f6-8dbd17f8bb4f",
   "metadata": {},
   "outputs": [
    {
     "data": {
      "text/html": [
       "<div>\n",
       "<style scoped>\n",
       "    .dataframe tbody tr th:only-of-type {\n",
       "        vertical-align: middle;\n",
       "    }\n",
       "\n",
       "    .dataframe tbody tr th {\n",
       "        vertical-align: top;\n",
       "    }\n",
       "\n",
       "    .dataframe thead th {\n",
       "        text-align: right;\n",
       "    }\n",
       "</style>\n",
       "<table border=\"1\" class=\"dataframe\">\n",
       "  <thead>\n",
       "    <tr style=\"text-align: right;\">\n",
       "      <th></th>\n",
       "      <th>count</th>\n",
       "      <th>mean</th>\n",
       "      <th>std</th>\n",
       "      <th>min</th>\n",
       "      <th>25%</th>\n",
       "      <th>50%</th>\n",
       "      <th>75%</th>\n",
       "      <th>max</th>\n",
       "    </tr>\n",
       "  </thead>\n",
       "  <tbody>\n",
       "    <tr>\n",
       "      <th>Unnamed: 0</th>\n",
       "      <td>471.0</td>\n",
       "      <td>235.000000</td>\n",
       "      <td>136.110249</td>\n",
       "      <td>0.0</td>\n",
       "      <td>117.5</td>\n",
       "      <td>235.0</td>\n",
       "      <td>352.5</td>\n",
       "      <td>470.0</td>\n",
       "    </tr>\n",
       "    <tr>\n",
       "      <th>season_no</th>\n",
       "      <td>471.0</td>\n",
       "      <td>3.825902</td>\n",
       "      <td>2.187841</td>\n",
       "      <td>0.0</td>\n",
       "      <td>2.0</td>\n",
       "      <td>5.0</td>\n",
       "      <td>6.0</td>\n",
       "      <td>7.0</td>\n",
       "    </tr>\n",
       "    <tr>\n",
       "      <th>uploading_date</th>\n",
       "      <td>471.0</td>\n",
       "      <td>2.084926</td>\n",
       "      <td>1.326171</td>\n",
       "      <td>0.0</td>\n",
       "      <td>1.0</td>\n",
       "      <td>2.0</td>\n",
       "      <td>3.0</td>\n",
       "      <td>4.0</td>\n",
       "    </tr>\n",
       "    <tr>\n",
       "      <th>rate</th>\n",
       "      <td>471.0</td>\n",
       "      <td>595759.838641</td>\n",
       "      <td>514878.502849</td>\n",
       "      <td>167728.0</td>\n",
       "      <td>328092.0</td>\n",
       "      <td>446148.0</td>\n",
       "      <td>659515.5</td>\n",
       "      <td>5916220.0</td>\n",
       "    </tr>\n",
       "    <tr>\n",
       "      <th>time</th>\n",
       "      <td>471.0</td>\n",
       "      <td>17.815287</td>\n",
       "      <td>6.454906</td>\n",
       "      <td>1.0</td>\n",
       "      <td>14.0</td>\n",
       "      <td>19.0</td>\n",
       "      <td>22.0</td>\n",
       "      <td>37.0</td>\n",
       "    </tr>\n",
       "    <tr>\n",
       "      <th>E</th>\n",
       "      <td>471.0</td>\n",
       "      <td>38.732484</td>\n",
       "      <td>27.707296</td>\n",
       "      <td>-1.0</td>\n",
       "      <td>15.0</td>\n",
       "      <td>35.0</td>\n",
       "      <td>61.0</td>\n",
       "      <td>100.0</td>\n",
       "    </tr>\n",
       "  </tbody>\n",
       "</table>\n",
       "</div>"
      ],
      "text/plain": [
       "                count           mean            std       min       25%  \\\n",
       "Unnamed: 0      471.0     235.000000     136.110249       0.0     117.5   \n",
       "season_no       471.0       3.825902       2.187841       0.0       2.0   \n",
       "uploading_date  471.0       2.084926       1.326171       0.0       1.0   \n",
       "rate            471.0  595759.838641  514878.502849  167728.0  328092.0   \n",
       "time            471.0      17.815287       6.454906       1.0      14.0   \n",
       "E               471.0      38.732484      27.707296      -1.0      15.0   \n",
       "\n",
       "                     50%       75%        max  \n",
       "Unnamed: 0         235.0     352.5      470.0  \n",
       "season_no            5.0       6.0        7.0  \n",
       "uploading_date       2.0       3.0        4.0  \n",
       "rate            446148.0  659515.5  5916220.0  \n",
       "time                19.0      22.0       37.0  \n",
       "E                   35.0      61.0      100.0  "
      ]
     },
     "execution_count": 74,
     "metadata": {},
     "output_type": "execute_result"
    }
   ],
   "source": [
    "# Burada sadece time ve rate değişkenleri anlamlı. Sezon ve bölüm sayılarının ortalamasından çok anlamlı bir şey beklemiyorum.\n",
    "data.describe().T"
   ]
  },
  {
   "cell_type": "code",
   "execution_count": 75,
   "id": "31e06913-d124-4f5b-90c1-f7e061bd6959",
   "metadata": {},
   "outputs": [
    {
     "data": {
      "text/plain": [
       "season_title\n",
       "Project Alaska                                       100\n",
       "India to Europe                                      100\n",
       "Southern Africa                                       96\n",
       "Patagonia to Alaska                                   77\n",
       "Return to Africa                                      46\n",
       "Denmark, Iceland, Norway & Sweden                     34\n",
       "The Dutch Moto Scene                                  11\n",
       "['Adventure Intermezzo: Tour of The Netherlands']      7\n",
       "Name: count, dtype: int64"
      ]
     },
     "execution_count": 75,
     "metadata": {},
     "output_type": "execute_result"
    }
   ],
   "source": [
    "# Hangi sezonda ne kadar bölüm olduğu bilgisi\n",
    "data.season_title.value_counts()"
   ]
  },
  {
   "cell_type": "code",
   "execution_count": 76,
   "id": "e6402a3d-f23a-4f78-854d-40b9723064a5",
   "metadata": {},
   "outputs": [
    {
     "data": {
      "text/plain": [
       "season_no\n",
       "6    100\n",
       "1    100\n",
       "5     96\n",
       "2     77\n",
       "7     46\n",
       "3     34\n",
       "4     11\n",
       "0      7\n",
       "Name: count, dtype: int64"
      ]
     },
     "execution_count": 76,
     "metadata": {},
     "output_type": "execute_result"
    }
   ],
   "source": [
    "# 0 sezonu aslında küçük bir ara sezon ve 0 da değil. \n",
    "data.season_no.value_counts()"
   ]
  },
  {
   "cell_type": "code",
   "execution_count": 77,
   "id": "c2d76e26-5d87-4756-a6f7-f1fcc8e1e723",
   "metadata": {},
   "outputs": [
    {
     "data": {
      "text/plain": [
       "uploading_date\n",
       "1    142\n",
       "4    100\n",
       "2     94\n",
       "3     84\n",
       "0     51\n",
       "Name: count, dtype: int64"
      ]
     },
     "execution_count": 77,
     "metadata": {},
     "output_type": "execute_result"
    }
   ],
   "source": [
    "# Değerlerde anlamsız sonuçlar var mı?\n",
    "data.uploading_date.value_counts()"
   ]
  },
  {
   "cell_type": "code",
   "execution_count": 78,
   "id": "2df5da12-0d46-4c26-bb56-7c290529c58d",
   "metadata": {},
   "outputs": [
    {
     "data": {
      "text/plain": [
       "(167728, 5916220)"
      ]
     },
     "execution_count": 78,
     "metadata": {},
     "output_type": "execute_result"
    }
   ],
   "source": [
    "# Her bir videonun rating'i sayısal ve devamlı olduğu için min ve max \n",
    "data.rate.min(), data.rate.max()"
   ]
  },
  {
   "cell_type": "code",
   "execution_count": 79,
   "id": "5b483606-70a2-4b4a-963c-74417ea103d6",
   "metadata": {},
   "outputs": [
    {
     "data": {
      "text/plain": [
       "(1, 37)"
      ]
     },
     "execution_count": 79,
     "metadata": {},
     "output_type": "execute_result"
    }
   ],
   "source": [
    "data.time.min(), data.time.max()"
   ]
  },
  {
   "cell_type": "markdown",
   "id": "305325d3-9230-4184-b71e-95f6820d639b",
   "metadata": {},
   "source": [
    "# 3. Korelasyonlar"
   ]
  },
  {
   "cell_type": "code",
   "execution_count": 80,
   "id": "34b85ad2-d280-4660-86a7-0832abbbf2b3",
   "metadata": {},
   "outputs": [
    {
     "data": {
      "text/plain": [
       "-0.2490153041400886"
      ]
     },
     "execution_count": 80,
     "metadata": {},
     "output_type": "execute_result"
    }
   ],
   "source": [
    "data.rate.corr(data.uploading_date)"
   ]
  },
  {
   "cell_type": "code",
   "execution_count": 81,
   "id": "faa638c7-3ed3-41cb-a3ac-464ba8f9447c",
   "metadata": {},
   "outputs": [
    {
     "data": {
      "text/plain": [
       "0      -1\n",
       "1       2\n",
       "2       3\n",
       "3       4\n",
       "4       5\n",
       "       ..\n",
       "466    94\n",
       "467    95\n",
       "468    96\n",
       "469    97\n",
       "470    98\n",
       "Name: E, Length: 471, dtype: int64"
      ]
     },
     "execution_count": 81,
     "metadata": {},
     "output_type": "execute_result"
    }
   ],
   "source": [
    "data.E"
   ]
  },
  {
   "cell_type": "code",
   "execution_count": 82,
   "id": "01d4052f-db0a-4ed1-a168-5dd9fae15518",
   "metadata": {},
   "outputs": [],
   "source": [
    "# data.E.corr(data.uploading_date)"
   ]
  },
  {
   "cell_type": "code",
   "execution_count": 83,
   "id": "c3488bb0-cad6-4882-aa32-944d2f10fa4d",
   "metadata": {},
   "outputs": [
    {
     "data": {
      "text/plain": [
       "0.07290673054319484"
      ]
     },
     "execution_count": 83,
     "metadata": {},
     "output_type": "execute_result"
    }
   ],
   "source": [
    "data.E.corr(data.rate)"
   ]
  },
  {
   "cell_type": "code",
   "execution_count": 84,
   "id": "f401eda3-7011-4196-b579-87cd8958c4aa",
   "metadata": {},
   "outputs": [
    {
     "data": {
      "text/plain": [
       "0.26883760002101653"
      ]
     },
     "execution_count": 84,
     "metadata": {},
     "output_type": "execute_result"
    }
   ],
   "source": [
    "data.season_no.corr(data.rate)"
   ]
  },
  {
   "cell_type": "code",
   "execution_count": 85,
   "id": "8e6dbcea-3936-4389-9042-93416e44c808",
   "metadata": {},
   "outputs": [
    {
     "data": {
      "text/plain": [
       "0.6996406843794095"
      ]
     },
     "execution_count": 85,
     "metadata": {},
     "output_type": "execute_result"
    }
   ],
   "source": [
    "# Sezonlara göre video süresi arasında pozitif bir ilişki var.\n",
    "data.season_no.corr(data.time)"
   ]
  },
  {
   "cell_type": "code",
   "execution_count": 86,
   "id": "045ac161-3b19-4e3c-b4fa-cc3176eb770c",
   "metadata": {},
   "outputs": [
    {
     "data": {
      "text/plain": [
       "0.28771630384962815"
      ]
     },
     "execution_count": 86,
     "metadata": {},
     "output_type": "execute_result"
    }
   ],
   "source": [
    "# Süre ile izlenme oranında çok zayıf bir ilişki var.\n",
    "data.rate.corr(data.time)"
   ]
  },
  {
   "cell_type": "markdown",
   "id": "b89d759c-46b2-418f-a17a-a503d55ebaff",
   "metadata": {},
   "source": [
    "# 4. Plottings"
   ]
  },
  {
   "cell_type": "code",
   "execution_count": 87,
   "id": "ec5372b4-d22f-4712-ba30-b879b943133b",
   "metadata": {},
   "outputs": [],
   "source": [
    "import matplotlib.pyplot as plt"
   ]
  },
  {
   "cell_type": "code",
   "execution_count": 88,
   "id": "899c5014-6376-47cf-8ae0-2923594538cb",
   "metadata": {},
   "outputs": [
    {
     "data": {
      "text/plain": [
       "<matplotlib.collections.PathCollection at 0x12ebee8d0>"
      ]
     },
     "execution_count": 88,
     "metadata": {},
     "output_type": "execute_result"
    },
    {
     "data": {
      "image/png": "[encoded data removed]",
      "text/plain": [
       "<Figure size 640x480 with 1 Axes>"
      ]
     },
     "metadata": {},
     "output_type": "display_data"
    }
   ],
   "source": [
    "# İlk sezonda süreler artırmaya başlanmış.\n",
    "plt.scatter(data.E[data.season_no==1], data.time[data.season_no==1])"
   ]
  },
  {
   "cell_type": "code",
   "execution_count": 89,
   "id": "854a762f-5584-45ad-84d1-28e47938a296",
   "metadata": {},
   "outputs": [
    {
     "data": {
      "text/plain": [
       "<matplotlib.collections.PathCollection at 0x1684d1090>"
      ]
     },
     "execution_count": 89,
     "metadata": {},
     "output_type": "execute_result"
    },
    {
     "data": {
      "image/png": "[encoded data removed]",
      "text/plain": [
       "<Figure size 640x480 with 1 Axes>"
      ]
     },
     "metadata": {},
     "output_type": "display_data"
    }
   ],
   "source": [
    "# Son sezonlarda artık belirli bir sürede karar kılmış\n",
    "plt.scatter(data.E[data.season_no==6], data.time[data.season_no==6])"
   ]
  },
  {
   "cell_type": "code",
   "execution_count": 90,
   "id": "28848f8b-7bdc-4188-9dd9-5da5f6b664e5",
   "metadata": {},
   "outputs": [
    {
     "data": {
      "text/plain": [
       "<matplotlib.collections.PathCollection at 0x12e3356d0>"
      ]
     },
     "execution_count": 90,
     "metadata": {},
     "output_type": "execute_result"
    },
    {
     "data": {
      "image/png": "[encoded data removed]",
      "text/plain": [
       "<Figure size 640x480 with 1 Axes>"
      ]
     },
     "metadata": {},
     "output_type": "display_data"
    }
   ],
   "source": [
    "plt.scatter(data.E[data.season_no==1], data.rate[data.season_no==1])"
   ]
  },
  {
   "cell_type": "code",
   "execution_count": 91,
   "id": "d4eb27a8-df5d-4b34-8cde-ab1859a8c677",
   "metadata": {},
   "outputs": [
    {
     "data": {
      "text/plain": [
       "<matplotlib.collections.PathCollection at 0x1681161d0>"
      ]
     },
     "execution_count": 91,
     "metadata": {},
     "output_type": "execute_result"
    },
    {
     "data": {
      "image/png": "[encoded data removed]",
      "text/plain": [
       "<Figure size 640x480 with 1 Axes>"
      ]
     },
     "metadata": {},
     "output_type": "display_data"
    }
   ],
   "source": [
    "plt.scatter(data.E[data.season_no==6], data.rate[data.season_no==6])"
   ]
  },
  {
   "cell_type": "code",
   "execution_count": 92,
   "id": "28db78f9-e908-4732-a8b6-bd5e132169a9",
   "metadata": {},
   "outputs": [
    {
     "data": {
      "text/plain": [
       "season_no\n",
       "0    738750.714286\n",
       "1    467126.400000\n",
       "2    389629.571429\n",
       "3    497204.500000\n",
       "4    680183.909091\n",
       "5    507467.770833\n",
       "6    943453.660000\n",
       "7    679744.869565\n",
       "Name: rate, dtype: float64"
      ]
     },
     "execution_count": 92,
     "metadata": {},
     "output_type": "execute_result"
    }
   ],
   "source": [
    "data.groupby('season_no')['rate'].mean()"
   ]
  },
  {
   "cell_type": "code",
   "execution_count": 93,
   "id": "a98717a5-26fd-4474-9cc0-e223fcf3a50d",
   "metadata": {},
   "outputs": [
    {
     "data": {
      "text/plain": [
       "season_no\n",
       "0    261980\n",
       "1    167728\n",
       "2    234000\n",
       "3    225440\n",
       "4    224785\n",
       "5    231997\n",
       "6    414735\n",
       "7    349501\n",
       "Name: rate, dtype: int64"
      ]
     },
     "execution_count": 93,
     "metadata": {},
     "output_type": "execute_result"
    }
   ],
   "source": [
    "data.groupby('season_no')['rate'].min()"
   ]
  },
  {
   "cell_type": "code",
   "execution_count": 94,
   "id": "5f8b0635-56e8-4f55-abac-6df071bea7a0",
   "metadata": {},
   "outputs": [
    {
     "data": {
      "text/plain": [
       "season_no\n",
       "0    2379922\n",
       "1    2699812\n",
       "2    1277723\n",
       "3    1774089\n",
       "4    2213044\n",
       "5    2376833\n",
       "6    5916220\n",
       "7    1548717\n",
       "Name: rate, dtype: int64"
      ]
     },
     "execution_count": 94,
     "metadata": {},
     "output_type": "execute_result"
    }
   ],
   "source": [
    "data.groupby('season_no')['rate'].max()"
   ]
  },
  {
   "cell_type": "markdown",
   "id": "788ad055-b7c4-4b65-8fb2-29c79eddb973",
   "metadata": {},
   "source": [
    "# 5. En çok ve en az izlenenler"
   ]
  },
  {
   "cell_type": "code",
   "execution_count": 95,
   "id": "c3cc1f52-aa7c-4a2f-80e6-4f690a73268b",
   "metadata": {},
   "outputs": [
    {
     "data": {
      "text/html": [
       "<div>\n",
       "<style scoped>\n",
       "    .dataframe tbody tr th:only-of-type {\n",
       "        vertical-align: middle;\n",
       "    }\n",
       "\n",
       "    .dataframe tbody tr th {\n",
       "        vertical-align: top;\n",
       "    }\n",
       "\n",
       "    .dataframe thead th {\n",
       "        text-align: right;\n",
       "    }\n",
       "</style>\n",
       "<table border=\"1\" class=\"dataframe\">\n",
       "  <thead>\n",
       "    <tr style=\"text-align: right;\">\n",
       "      <th></th>\n",
       "      <th>Unnamed: 0</th>\n",
       "      <th>season_no</th>\n",
       "      <th>season_title</th>\n",
       "      <th>uploading_date</th>\n",
       "      <th>rate</th>\n",
       "      <th>time</th>\n",
       "      <th>E</th>\n",
       "      <th>title</th>\n",
       "    </tr>\n",
       "  </thead>\n",
       "  <tbody>\n",
       "    <tr>\n",
       "      <th>97</th>\n",
       "      <td>97</td>\n",
       "      <td>6</td>\n",
       "      <td>Project Alaska</td>\n",
       "      <td>1</td>\n",
       "      <td>5916220</td>\n",
       "      <td>27</td>\n",
       "      <td>52</td>\n",
       "      <td>They try to trap me in Honduras 🇭🇳  DANGEROUS!</td>\n",
       "    </tr>\n",
       "    <tr>\n",
       "      <th>46</th>\n",
       "      <td>46</td>\n",
       "      <td>6</td>\n",
       "      <td>Project Alaska</td>\n",
       "      <td>1</td>\n",
       "      <td>4547879</td>\n",
       "      <td>19</td>\n",
       "      <td>1</td>\n",
       "      <td>I bought a new motorcycle for more Itchy Boots...</td>\n",
       "    </tr>\n",
       "    <tr>\n",
       "      <th>110</th>\n",
       "      <td>110</td>\n",
       "      <td>6</td>\n",
       "      <td>Project Alaska</td>\n",
       "      <td>1</td>\n",
       "      <td>2885049</td>\n",
       "      <td>24</td>\n",
       "      <td>65</td>\n",
       "      <td>Guatemalan POLICE escorts Dutch biker and her ...</td>\n",
       "    </tr>\n",
       "    <tr>\n",
       "      <th>464</th>\n",
       "      <td>464</td>\n",
       "      <td>1</td>\n",
       "      <td>India to Europe</td>\n",
       "      <td>4</td>\n",
       "      <td>2699812</td>\n",
       "      <td>19</td>\n",
       "      <td>92</td>\n",
       "      <td>CROSSING INTO RUSSIA</td>\n",
       "    </tr>\n",
       "    <tr>\n",
       "      <th>137</th>\n",
       "      <td>137</td>\n",
       "      <td>6</td>\n",
       "      <td>Project Alaska</td>\n",
       "      <td>1</td>\n",
       "      <td>2581185</td>\n",
       "      <td>20</td>\n",
       "      <td>92</td>\n",
       "      <td>Motorcycling Mexico's most dangerous state : C...</td>\n",
       "    </tr>\n",
       "    <tr>\n",
       "      <th>128</th>\n",
       "      <td>128</td>\n",
       "      <td>6</td>\n",
       "      <td>Project Alaska</td>\n",
       "      <td>1</td>\n",
       "      <td>2529213</td>\n",
       "      <td>31</td>\n",
       "      <td>83</td>\n",
       "      <td>“People with guns are blocking the road”. MEXI...</td>\n",
       "    </tr>\n",
       "    <tr>\n",
       "      <th>292</th>\n",
       "      <td>292</td>\n",
       "      <td>0</td>\n",
       "      <td>['Adventure Intermezzo: Tour of The Netherlands']</td>\n",
       "      <td>3</td>\n",
       "      <td>2379922</td>\n",
       "      <td>11</td>\n",
       "      <td>6</td>\n",
       "      <td>I bought a new motorcycle!</td>\n",
       "    </tr>\n",
       "    <tr>\n",
       "      <th>204</th>\n",
       "      <td>204</td>\n",
       "      <td>5</td>\n",
       "      <td>Southern Africa</td>\n",
       "      <td>1</td>\n",
       "      <td>2376833</td>\n",
       "      <td>21</td>\n",
       "      <td>59</td>\n",
       "      <td>How a Himba tribe reacts when they meet me</td>\n",
       "    </tr>\n",
       "    <tr>\n",
       "      <th>136</th>\n",
       "      <td>136</td>\n",
       "      <td>6</td>\n",
       "      <td>Project Alaska</td>\n",
       "      <td>1</td>\n",
       "      <td>2267228</td>\n",
       "      <td>27</td>\n",
       "      <td>91</td>\n",
       "      <td>Area 51 in Mexico: the ZONE of SILENCE 🇲🇽</td>\n",
       "    </tr>\n",
       "    <tr>\n",
       "      <th>244</th>\n",
       "      <td>244</td>\n",
       "      <td>4</td>\n",
       "      <td>The Dutch Moto Scene</td>\n",
       "      <td>2</td>\n",
       "      <td>2213044</td>\n",
       "      <td>28</td>\n",
       "      <td>3</td>\n",
       "      <td>A dream come true...</td>\n",
       "    </tr>\n",
       "    <tr>\n",
       "      <th>174</th>\n",
       "      <td>174</td>\n",
       "      <td>5</td>\n",
       "      <td>Southern Africa</td>\n",
       "      <td>2</td>\n",
       "      <td>2154028</td>\n",
       "      <td>23</td>\n",
       "      <td>29</td>\n",
       "      <td>I can't believe they found THIS in South Afric...</td>\n",
       "    </tr>\n",
       "    <tr>\n",
       "      <th>232</th>\n",
       "      <td>232</td>\n",
       "      <td>5</td>\n",
       "      <td>Southern Africa</td>\n",
       "      <td>1</td>\n",
       "      <td>2075226</td>\n",
       "      <td>23</td>\n",
       "      <td>-1</td>\n",
       "      <td>22.000 kilometer solo motorcycle journey throu...</td>\n",
       "    </tr>\n",
       "  </tbody>\n",
       "</table>\n",
       "</div>"
      ],
      "text/plain": [
       "     Unnamed: 0  season_no                                       season_title  \\\n",
       "97           97          6                                     Project Alaska   \n",
       "46           46          6                                     Project Alaska   \n",
       "110         110          6                                     Project Alaska   \n",
       "464         464          1                                    India to Europe   \n",
       "137         137          6                                     Project Alaska   \n",
       "128         128          6                                     Project Alaska   \n",
       "292         292          0  ['Adventure Intermezzo: Tour of The Netherlands']   \n",
       "204         204          5                                    Southern Africa   \n",
       "136         136          6                                     Project Alaska   \n",
       "244         244          4                               The Dutch Moto Scene   \n",
       "174         174          5                                    Southern Africa   \n",
       "232         232          5                                    Southern Africa   \n",
       "\n",
       "     uploading_date     rate  time   E  \\\n",
       "97                1  5916220    27  52   \n",
       "46                1  4547879    19   1   \n",
       "110               1  2885049    24  65   \n",
       "464               4  2699812    19  92   \n",
       "137               1  2581185    20  92   \n",
       "128               1  2529213    31  83   \n",
       "292               3  2379922    11   6   \n",
       "204               1  2376833    21  59   \n",
       "136               1  2267228    27  91   \n",
       "244               2  2213044    28   3   \n",
       "174               2  2154028    23  29   \n",
       "232               1  2075226    23  -1   \n",
       "\n",
       "                                                 title  \n",
       "97     They try to trap me in Honduras 🇭🇳  DANGEROUS!   \n",
       "46   I bought a new motorcycle for more Itchy Boots...  \n",
       "110  Guatemalan POLICE escorts Dutch biker and her ...  \n",
       "464                              CROSSING INTO RUSSIA   \n",
       "137  Motorcycling Mexico's most dangerous state : C...  \n",
       "128  “People with guns are blocking the road”. MEXI...  \n",
       "292                        I bought a new motorcycle!   \n",
       "204        How a Himba tribe reacts when they meet me   \n",
       "136         Area 51 in Mexico: the ZONE of SILENCE 🇲🇽   \n",
       "244                              A dream come true...   \n",
       "174  I can't believe they found THIS in South Afric...  \n",
       "232  22.000 kilometer solo motorcycle journey throu...  "
      ]
     },
     "execution_count": 95,
     "metadata": {},
     "output_type": "execute_result"
    }
   ],
   "source": [
    "data[data.rate > 2000000].sort_values(by='rate', ascending=False)"
   ]
  },
  {
   "cell_type": "code",
   "execution_count": 96,
   "id": "a0d16feb-f2a6-4d49-b81d-f1af9d6d3f3a",
   "metadata": {},
   "outputs": [],
   "source": [
    "# Kabaca bir bakışla yeni alınan motor, sınır geçişleri ve sorunlar daha fazla izleniyor gibi.\n",
    "# Bir de az izlenenlere bakalım\n",
    "# Burada sentiment analizi yapılabilir. İlerisi için düşünmeli!"
   ]
  },
  {
   "cell_type": "code",
   "execution_count": 97,
   "id": "fd46aa38-15e2-47bb-8ce5-d4a133d60156",
   "metadata": {},
   "outputs": [
    {
     "data": {
      "text/html": [
       "<div>\n",
       "<style scoped>\n",
       "    .dataframe tbody tr th:only-of-type {\n",
       "        vertical-align: middle;\n",
       "    }\n",
       "\n",
       "    .dataframe tbody tr th {\n",
       "        vertical-align: top;\n",
       "    }\n",
       "\n",
       "    .dataframe thead th {\n",
       "        text-align: right;\n",
       "    }\n",
       "</style>\n",
       "<table border=\"1\" class=\"dataframe\">\n",
       "  <thead>\n",
       "    <tr style=\"text-align: right;\">\n",
       "      <th></th>\n",
       "      <th>Unnamed: 0</th>\n",
       "      <th>season_no</th>\n",
       "      <th>season_title</th>\n",
       "      <th>uploading_date</th>\n",
       "      <th>rate</th>\n",
       "      <th>time</th>\n",
       "      <th>E</th>\n",
       "      <th>title</th>\n",
       "    </tr>\n",
       "  </thead>\n",
       "  <tbody>\n",
       "    <tr>\n",
       "      <th>413</th>\n",
       "      <td>413</td>\n",
       "      <td>1</td>\n",
       "      <td>India to Europe</td>\n",
       "      <td>4</td>\n",
       "      <td>167728</td>\n",
       "      <td>9</td>\n",
       "      <td>42</td>\n",
       "      <td>OFFROADING OMAN - Part 2</td>\n",
       "    </tr>\n",
       "    <tr>\n",
       "      <th>402</th>\n",
       "      <td>402</td>\n",
       "      <td>1</td>\n",
       "      <td>India to Europe</td>\n",
       "      <td>4</td>\n",
       "      <td>173860</td>\n",
       "      <td>7</td>\n",
       "      <td>32</td>\n",
       "      <td>TYRE FINISHED?</td>\n",
       "    </tr>\n",
       "    <tr>\n",
       "      <th>416</th>\n",
       "      <td>416</td>\n",
       "      <td>1</td>\n",
       "      <td>India to Europe</td>\n",
       "      <td>4</td>\n",
       "      <td>175624</td>\n",
       "      <td>8</td>\n",
       "      <td>45</td>\n",
       "      <td>THE LONG WAY DOWN - in Oman</td>\n",
       "    </tr>\n",
       "    <tr>\n",
       "      <th>396</th>\n",
       "      <td>396</td>\n",
       "      <td>1</td>\n",
       "      <td>India to Europe</td>\n",
       "      <td>4</td>\n",
       "      <td>195225</td>\n",
       "      <td>4</td>\n",
       "      <td>26</td>\n",
       "      <td>THE BEST OF CENTRAL THAILAND</td>\n",
       "    </tr>\n",
       "    <tr>\n",
       "      <th>393</th>\n",
       "      <td>393</td>\n",
       "      <td>1</td>\n",
       "      <td>India to Europe</td>\n",
       "      <td>4</td>\n",
       "      <td>197595</td>\n",
       "      <td>5</td>\n",
       "      <td>23</td>\n",
       "      <td>ELEPHANTS on the road in Thailand</td>\n",
       "    </tr>\n",
       "    <tr>\n",
       "      <th>...</th>\n",
       "      <td>...</td>\n",
       "      <td>...</td>\n",
       "      <td>...</td>\n",
       "      <td>...</td>\n",
       "      <td>...</td>\n",
       "      <td>...</td>\n",
       "      <td>...</td>\n",
       "      <td>...</td>\n",
       "    </tr>\n",
       "    <tr>\n",
       "      <th>310</th>\n",
       "      <td>310</td>\n",
       "      <td>2</td>\n",
       "      <td>Patagonia to Alaska</td>\n",
       "      <td>3</td>\n",
       "      <td>298213</td>\n",
       "      <td>17</td>\n",
       "      <td>16</td>\n",
       "      <td>A walk through JURASSIC times - Bosques Petri...</td>\n",
       "    </tr>\n",
       "    <tr>\n",
       "      <th>207</th>\n",
       "      <td>207</td>\n",
       "      <td>5</td>\n",
       "      <td>Southern Africa</td>\n",
       "      <td>1</td>\n",
       "      <td>298398</td>\n",
       "      <td>17</td>\n",
       "      <td>62</td>\n",
       "      <td>This ELEPHANT is going to CHARGE! 🐘</td>\n",
       "    </tr>\n",
       "    <tr>\n",
       "      <th>317</th>\n",
       "      <td>317</td>\n",
       "      <td>2</td>\n",
       "      <td>Patagonia to Alaska</td>\n",
       "      <td>3</td>\n",
       "      <td>299232</td>\n",
       "      <td>20</td>\n",
       "      <td>23</td>\n",
       "      <td>Spending a day with locals in Porvenir, Chile</td>\n",
       "    </tr>\n",
       "    <tr>\n",
       "      <th>424</th>\n",
       "      <td>424</td>\n",
       "      <td>1</td>\n",
       "      <td>India to Europe</td>\n",
       "      <td>4</td>\n",
       "      <td>299259</td>\n",
       "      <td>7</td>\n",
       "      <td>52</td>\n",
       "      <td>ABU DHABI &amp; DUBAI</td>\n",
       "    </tr>\n",
       "    <tr>\n",
       "      <th>335</th>\n",
       "      <td>335</td>\n",
       "      <td>2</td>\n",
       "      <td>Patagonia to Alaska</td>\n",
       "      <td>3</td>\n",
       "      <td>299837</td>\n",
       "      <td>23</td>\n",
       "      <td>41</td>\n",
       "      <td>My motorcycle and me are boiling in the deser...</td>\n",
       "    </tr>\n",
       "  </tbody>\n",
       "</table>\n",
       "<p>73 rows × 8 columns</p>\n",
       "</div>"
      ],
      "text/plain": [
       "     Unnamed: 0  season_no         season_title  uploading_date    rate  time  \\\n",
       "413         413          1      India to Europe               4  167728     9   \n",
       "402         402          1      India to Europe               4  173860     7   \n",
       "416         416          1      India to Europe               4  175624     8   \n",
       "396         396          1      India to Europe               4  195225     4   \n",
       "393         393          1      India to Europe               4  197595     5   \n",
       "..          ...        ...                  ...             ...     ...   ...   \n",
       "310         310          2  Patagonia to Alaska               3  298213    17   \n",
       "207         207          5      Southern Africa               1  298398    17   \n",
       "317         317          2  Patagonia to Alaska               3  299232    20   \n",
       "424         424          1      India to Europe               4  299259     7   \n",
       "335         335          2  Patagonia to Alaska               3  299837    23   \n",
       "\n",
       "      E                                              title  \n",
       "413  42                          OFFROADING OMAN - Part 2   \n",
       "402  32                                    TYRE FINISHED?   \n",
       "416  45                       THE LONG WAY DOWN - in Oman   \n",
       "396  26                      THE BEST OF CENTRAL THAILAND   \n",
       "393  23                 ELEPHANTS on the road in Thailand   \n",
       "..   ..                                                ...  \n",
       "310  16   A walk through JURASSIC times - Bosques Petri...  \n",
       "207  62               This ELEPHANT is going to CHARGE! 🐘   \n",
       "317  23     Spending a day with locals in Porvenir, Chile   \n",
       "424  52                                 ABU DHABI & DUBAI   \n",
       "335  41   My motorcycle and me are boiling in the deser...  \n",
       "\n",
       "[73 rows x 8 columns]"
      ]
     },
     "execution_count": 97,
     "metadata": {},
     "output_type": "execute_result"
    }
   ],
   "source": [
    "data[data.rate < 300000].sort_values(by='rate')"
   ]
  },
  {
   "cell_type": "markdown",
   "id": "1104a054-2aed-48d7-ba03-32f244ffed6e",
   "metadata": {},
   "source": [
    "# 6. Sezonlar ve bölüm sayıları"
   ]
  },
  {
   "cell_type": "code",
   "execution_count": 98,
   "id": "3147b9b5-7252-428e-b983-a01b412a4b4e",
   "metadata": {},
   "outputs": [
    {
     "data": {
      "text/plain": [
       "Index([0, 1, 2, 3, 4, 5, 6, 7], dtype='int64', name='season_no')"
      ]
     },
     "execution_count": 98,
     "metadata": {},
     "output_type": "execute_result"
    }
   ],
   "source": [
    "labels = data.season_no.value_counts().keys()\n",
    "labels.sort_values()"
   ]
  },
  {
   "cell_type": "code",
   "execution_count": 99,
   "id": "4a1bc245-94e5-4c9e-ad4c-071e0e9f2dc7",
   "metadata": {
    "scrolled": true
   },
   "outputs": [
    {
     "data": {
      "image/png": "[encoded data removed]",
      "text/plain": [
       "<Figure size 1000x1000 with 1 Axes>"
      ]
     },
     "metadata": {},
     "output_type": "display_data"
    }
   ],
   "source": [
    "# Sezon ve bölümler\n",
    "plt.figure(figsize=(10,10))\n",
    "plt.title('Sezona göre bölüm sayıları')\n",
    "plt.pie(data.groupby('season_no')['E'].max(), labels=labels.sort_values())\n",
    "plt.legend(title='Sezonlar')\n",
    "plt.savefig('images/seasons.png');"
   ]
  },
  {
   "cell_type": "code",
   "execution_count": null,
   "id": "72fc3524-3448-49c1-9315-e8f4e9a3b487",
   "metadata": {},
   "outputs": [],
   "source": []
  }
 ],
 "metadata": {
  "kernelspec": {
   "display_name": "Python 3 (ipykernel)",
   "language": "python",
   "name": "python3"
  },
  "language_info": {
   "codemirror_mode": {
    "name": "ipython",
    "version": 3
   },
   "file_extension": ".py",
   "mimetype": "text/x-python",
   "name": "python",
   "nbconvert_exporter": "python",
   "pygments_lexer": "ipython3",
   "version": "3.11.4"
  }
 },
 "nbformat": 4,
 "nbformat_minor": 5
}
