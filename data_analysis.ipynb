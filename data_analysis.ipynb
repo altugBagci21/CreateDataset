{
 "cells": [
  {
   "cell_type": "markdown",
   "id": "c33e9624-6a1f-480e-9465-0f39afb81fd3",
   "metadata": {},
   "source": [
    "# Itchy Boots Analysis"
   ]
  },
  {
   "cell_type": "code",
   "execution_count": 47,
   "id": "0bffec84-e0a1-475f-a433-916b092b82ad",
   "metadata": {},
   "outputs": [],
   "source": [
    "import pandas as pd\n",
    "import matplotlib.pyplot as plt"
   ]
  },
  {
   "cell_type": "markdown",
   "id": "7d443dc2-2659-40be-98bd-c40b7be8661a",
   "metadata": {},
   "source": [
    "# 1. Veriyi yükleme"
   ]
  },
  {
   "cell_type": "code",
   "execution_count": 48,
   "id": "e4abecaa-750b-4719-8372-a3dbb33592b2",
   "metadata": {},
   "outputs": [],
   "source": [
    "data = pd.read_csv('datasets/itchy_boots_ready.csv')"
   ]
  },
  {
   "cell_type": "code",
   "execution_count": 49,
   "id": "7fefe545-edb8-4d92-b164-eab2f2faf325",
   "metadata": {},
   "outputs": [
    {
     "data": {
      "text/html": [
       "<div>\n",
       "<style scoped>\n",
       "    .dataframe tbody tr th:only-of-type {\n",
       "        vertical-align: middle;\n",
       "    }\n",
       "\n",
       "    .dataframe tbody tr th {\n",
       "        vertical-align: top;\n",
       "    }\n",
       "\n",
       "    .dataframe thead th {\n",
       "        text-align: right;\n",
       "    }\n",
       "</style>\n",
       "<table border=\"1\" class=\"dataframe\">\n",
       "  <thead>\n",
       "    <tr style=\"text-align: right;\">\n",
       "      <th></th>\n",
       "      <th>Unnamed: 0.1</th>\n",
       "      <th>Unnamed: 0</th>\n",
       "      <th>season_no</th>\n",
       "      <th>season_title</th>\n",
       "      <th>uploading_date</th>\n",
       "      <th>time</th>\n",
       "      <th>rate</th>\n",
       "      <th>E</th>\n",
       "      <th>title</th>\n",
       "    </tr>\n",
       "  </thead>\n",
       "  <tbody>\n",
       "    <tr>\n",
       "      <th>0</th>\n",
       "      <td>0</td>\n",
       "      <td>0</td>\n",
       "      <td>7</td>\n",
       "      <td>Return to Africa</td>\n",
       "      <td>0</td>\n",
       "      <td>20</td>\n",
       "      <td>-1</td>\n",
       "      <td>ITCHY BOOTS  New Season: this is where I am go...</td>\n",
       "      <td>ITCHY BOOTS  New Season: this is where I am go...</td>\n",
       "    </tr>\n",
       "    <tr>\n",
       "      <th>1</th>\n",
       "      <td>1</td>\n",
       "      <td>1</td>\n",
       "      <td>7</td>\n",
       "      <td>Return to Africa</td>\n",
       "      <td>0</td>\n",
       "      <td>19</td>\n",
       "      <td>1548717</td>\n",
       "      <td>2</td>\n",
       "      <td>I need their help.</td>\n",
       "    </tr>\n",
       "    <tr>\n",
       "      <th>2</th>\n",
       "      <td>2</td>\n",
       "      <td>2</td>\n",
       "      <td>7</td>\n",
       "      <td>Return to Africa</td>\n",
       "      <td>0</td>\n",
       "      <td>25</td>\n",
       "      <td>905116</td>\n",
       "      <td>3</td>\n",
       "      <td>No motorcyclists have gone here before</td>\n",
       "    </tr>\n",
       "    <tr>\n",
       "      <th>3</th>\n",
       "      <td>3</td>\n",
       "      <td>3</td>\n",
       "      <td>7</td>\n",
       "      <td>Return to Africa</td>\n",
       "      <td>0</td>\n",
       "      <td>18</td>\n",
       "      <td>790900</td>\n",
       "      <td>4</td>\n",
       "      <td>How I ended up in a Berber village in Morocco</td>\n",
       "    </tr>\n",
       "    <tr>\n",
       "      <th>4</th>\n",
       "      <td>4</td>\n",
       "      <td>4</td>\n",
       "      <td>7</td>\n",
       "      <td>Return to Africa</td>\n",
       "      <td>0</td>\n",
       "      <td>18</td>\n",
       "      <td>648198</td>\n",
       "      <td>5</td>\n",
       "      <td>Motorcycling solo into the Sahara Desert of Mo...</td>\n",
       "    </tr>\n",
       "  </tbody>\n",
       "</table>\n",
       "</div>"
      ],
      "text/plain": [
       "   Unnamed: 0.1  Unnamed: 0  season_no      season_title  uploading_date  \\\n",
       "0             0           0          7  Return to Africa               0   \n",
       "1             1           1          7  Return to Africa               0   \n",
       "2             2           2          7  Return to Africa               0   \n",
       "3             3           3          7  Return to Africa               0   \n",
       "4             4           4          7  Return to Africa               0   \n",
       "\n",
       "   time     rate                                                  E  \\\n",
       "0    20       -1  ITCHY BOOTS  New Season: this is where I am go...   \n",
       "1    19  1548717                                                  2   \n",
       "2    25   905116                                                  3   \n",
       "3    18   790900                                                  4   \n",
       "4    18   648198                                                  5   \n",
       "\n",
       "                                               title  \n",
       "0  ITCHY BOOTS  New Season: this is where I am go...  \n",
       "1                                I need their help.   \n",
       "2            No motorcyclists have gone here before   \n",
       "3     How I ended up in a Berber village in Morocco   \n",
       "4  Motorcycling solo into the Sahara Desert of Mo...  "
      ]
     },
     "execution_count": 49,
     "metadata": {},
     "output_type": "execute_result"
    }
   ],
   "source": [
    "data.head()"
   ]
  },
  {
   "cell_type": "code",
   "execution_count": 50,
   "id": "8748152a-2833-4a07-97c9-ad64d434c6c9",
   "metadata": {},
   "outputs": [],
   "source": [
    "data = data.iloc[:,1:]"
   ]
  },
  {
   "cell_type": "markdown",
   "id": "c5c46fd9-a215-408f-bad5-2c0fe9d714bc",
   "metadata": {},
   "source": [
    "# 2. EDA"
   ]
  },
  {
   "cell_type": "code",
   "execution_count": 51,
   "id": "7c1d6912-1151-4f9a-b188-8ea5b1f86ad0",
   "metadata": {},
   "outputs": [
    {
     "name": "stdout",
     "output_type": "stream",
     "text": [
      "<class 'pandas.core.frame.DataFrame'>\n",
      "RangeIndex: 471 entries, 0 to 470\n",
      "Data columns (total 8 columns):\n",
      " #   Column          Non-Null Count  Dtype \n",
      "---  ------          --------------  ----- \n",
      " 0   Unnamed: 0      471 non-null    int64 \n",
      " 1   season_no       471 non-null    int64 \n",
      " 2   season_title    471 non-null    object\n",
      " 3   uploading_date  471 non-null    int64 \n",
      " 4   time            471 non-null    int64 \n",
      " 5   rate            471 non-null    int64 \n",
      " 6   E               471 non-null    object\n",
      " 7   title           471 non-null    object\n",
      "dtypes: int64(5), object(3)\n",
      "memory usage: 29.6+ KB\n"
     ]
    }
   ],
   "source": [
    "data.info()"
   ]
  },
  {
   "cell_type": "code",
   "execution_count": 52,
   "id": "0eb6f9e3-cde4-49e3-a0bd-2bfeca6bb31a",
   "metadata": {},
   "outputs": [
    {
     "data": {
      "text/plain": [
       "Unnamed: 0        0\n",
       "season_no         0\n",
       "season_title      0\n",
       "uploading_date    0\n",
       "time              0\n",
       "rate              0\n",
       "E                 0\n",
       "title             0\n",
       "dtype: int64"
      ]
     },
     "execution_count": 52,
     "metadata": {},
     "output_type": "execute_result"
    }
   ],
   "source": [
    "data.isnull().sum()"
   ]
  },
  {
   "cell_type": "code",
   "execution_count": 53,
   "id": "84886fc4-43a8-4c96-84f6-8dbd17f8bb4f",
   "metadata": {},
   "outputs": [
    {
     "data": {
      "text/html": [
       "<div>\n",
       "<style scoped>\n",
       "    .dataframe tbody tr th:only-of-type {\n",
       "        vertical-align: middle;\n",
       "    }\n",
       "\n",
       "    .dataframe tbody tr th {\n",
       "        vertical-align: top;\n",
       "    }\n",
       "\n",
       "    .dataframe thead th {\n",
       "        text-align: right;\n",
       "    }\n",
       "</style>\n",
       "<table border=\"1\" class=\"dataframe\">\n",
       "  <thead>\n",
       "    <tr style=\"text-align: right;\">\n",
       "      <th></th>\n",
       "      <th>count</th>\n",
       "      <th>mean</th>\n",
       "      <th>std</th>\n",
       "      <th>min</th>\n",
       "      <th>25%</th>\n",
       "      <th>50%</th>\n",
       "      <th>75%</th>\n",
       "      <th>max</th>\n",
       "    </tr>\n",
       "  </thead>\n",
       "  <tbody>\n",
       "    <tr>\n",
       "      <th>Unnamed: 0</th>\n",
       "      <td>471.0</td>\n",
       "      <td>235.000000</td>\n",
       "      <td>136.110249</td>\n",
       "      <td>0.0</td>\n",
       "      <td>117.5</td>\n",
       "      <td>235.0</td>\n",
       "      <td>352.5</td>\n",
       "      <td>470.0</td>\n",
       "    </tr>\n",
       "    <tr>\n",
       "      <th>season_no</th>\n",
       "      <td>471.0</td>\n",
       "      <td>3.825902</td>\n",
       "      <td>2.187841</td>\n",
       "      <td>0.0</td>\n",
       "      <td>2.0</td>\n",
       "      <td>5.0</td>\n",
       "      <td>6.0</td>\n",
       "      <td>7.0</td>\n",
       "    </tr>\n",
       "    <tr>\n",
       "      <th>uploading_date</th>\n",
       "      <td>471.0</td>\n",
       "      <td>2.084926</td>\n",
       "      <td>1.326171</td>\n",
       "      <td>0.0</td>\n",
       "      <td>1.0</td>\n",
       "      <td>2.0</td>\n",
       "      <td>3.0</td>\n",
       "      <td>4.0</td>\n",
       "    </tr>\n",
       "    <tr>\n",
       "      <th>time</th>\n",
       "      <td>471.0</td>\n",
       "      <td>17.815287</td>\n",
       "      <td>6.454906</td>\n",
       "      <td>1.0</td>\n",
       "      <td>14.0</td>\n",
       "      <td>19.0</td>\n",
       "      <td>22.0</td>\n",
       "      <td>37.0</td>\n",
       "    </tr>\n",
       "    <tr>\n",
       "      <th>rate</th>\n",
       "      <td>471.0</td>\n",
       "      <td>567322.579618</td>\n",
       "      <td>524647.304519</td>\n",
       "      <td>-1.0</td>\n",
       "      <td>317265.0</td>\n",
       "      <td>428419.0</td>\n",
       "      <td>654125.0</td>\n",
       "      <td>5916220.0</td>\n",
       "    </tr>\n",
       "  </tbody>\n",
       "</table>\n",
       "</div>"
      ],
      "text/plain": [
       "                count           mean            std  min       25%       50%  \\\n",
       "Unnamed: 0      471.0     235.000000     136.110249  0.0     117.5     235.0   \n",
       "season_no       471.0       3.825902       2.187841  0.0       2.0       5.0   \n",
       "uploading_date  471.0       2.084926       1.326171  0.0       1.0       2.0   \n",
       "time            471.0      17.815287       6.454906  1.0      14.0      19.0   \n",
       "rate            471.0  567322.579618  524647.304519 -1.0  317265.0  428419.0   \n",
       "\n",
       "                     75%        max  \n",
       "Unnamed: 0         352.5      470.0  \n",
       "season_no            6.0        7.0  \n",
       "uploading_date       3.0        4.0  \n",
       "time                22.0       37.0  \n",
       "rate            654125.0  5916220.0  "
      ]
     },
     "execution_count": 53,
     "metadata": {},
     "output_type": "execute_result"
    }
   ],
   "source": [
    "# Burada sadece time ve rate değişkenleri anlamlı. Sezon ve bölüm sayılarının ortalamasından çok anlamlı bir şey beklemiyorum.\n",
    "data.describe().T"
   ]
  },
  {
   "cell_type": "code",
   "execution_count": 54,
   "id": "31e06913-d124-4f5b-90c1-f7e061bd6959",
   "metadata": {},
   "outputs": [
    {
     "data": {
      "text/plain": [
       "season_title\n",
       "Project Alaska                                       100\n",
       "India to Europe                                      100\n",
       "Southern Africa                                       96\n",
       "Patagonia to Alaska                                   77\n",
       "Return to Africa                                      46\n",
       "Denmark, Iceland, Norway & Sweden                     34\n",
       "The Dutch Moto Scene                                  11\n",
       "['Adventure Intermezzo: Tour of The Netherlands']      7\n",
       "Name: count, dtype: int64"
      ]
     },
     "execution_count": 54,
     "metadata": {},
     "output_type": "execute_result"
    }
   ],
   "source": [
    "# Hangi sezonda ne kadar bölüm olduğu bilgisi\n",
    "data.season_title.value_counts()"
   ]
  },
  {
   "cell_type": "code",
   "execution_count": 55,
   "id": "e6402a3d-f23a-4f78-854d-40b9723064a5",
   "metadata": {},
   "outputs": [
    {
     "data": {
      "text/plain": [
       "season_no\n",
       "6    100\n",
       "1    100\n",
       "5     96\n",
       "2     77\n",
       "7     46\n",
       "3     34\n",
       "4     11\n",
       "0      7\n",
       "Name: count, dtype: int64"
      ]
     },
     "execution_count": 55,
     "metadata": {},
     "output_type": "execute_result"
    }
   ],
   "source": [
    "# 0 sezonu aslında küçük bir ara sezon ve 0 da değil. \n",
    "data.season_no.value_counts()"
   ]
  },
  {
   "cell_type": "code",
   "execution_count": 56,
   "id": "c2d76e26-5d87-4756-a6f7-f1fcc8e1e723",
   "metadata": {},
   "outputs": [
    {
     "data": {
      "text/plain": [
       "uploading_date\n",
       "1    142\n",
       "4    100\n",
       "2     94\n",
       "3     84\n",
       "0     51\n",
       "Name: count, dtype: int64"
      ]
     },
     "execution_count": 56,
     "metadata": {},
     "output_type": "execute_result"
    }
   ],
   "source": [
    "# Değerlerde anlamsız sonuçlar var mı?\n",
    "data.uploading_date.value_counts()"
   ]
  },
  {
   "cell_type": "code",
   "execution_count": 57,
   "id": "2df5da12-0d46-4c26-bb56-7c290529c58d",
   "metadata": {},
   "outputs": [
    {
     "data": {
      "text/plain": [
       "(-1, 5916220)"
      ]
     },
     "execution_count": 57,
     "metadata": {},
     "output_type": "execute_result"
    }
   ],
   "source": [
    "# Her bir videonun rating'i sayısal ve devamlı olduğu için min ve max \n",
    "data.rate.min(), data.rate.max()"
   ]
  },
  {
   "cell_type": "code",
   "execution_count": 58,
   "id": "5b483606-70a2-4b4a-963c-74417ea103d6",
   "metadata": {},
   "outputs": [
    {
     "data": {
      "text/plain": [
       "(1, 37)"
      ]
     },
     "execution_count": 58,
     "metadata": {},
     "output_type": "execute_result"
    }
   ],
   "source": [
    "data.time.min(), data.time.max()"
   ]
  },
  {
   "cell_type": "markdown",
   "id": "305325d3-9230-4184-b71e-95f6820d639b",
   "metadata": {},
   "source": [
    "# 3. Korelasyonlar"
   ]
  },
  {
   "cell_type": "code",
   "execution_count": 59,
   "id": "34b85ad2-d280-4660-86a7-0832abbbf2b3",
   "metadata": {},
   "outputs": [
    {
     "data": {
      "text/plain": [
       "-0.21230928135502042"
      ]
     },
     "execution_count": 59,
     "metadata": {},
     "output_type": "execute_result"
    }
   ],
   "source": [
    "data.rate.corr(data.uploading_date)"
   ]
  },
  {
   "cell_type": "code",
   "execution_count": 67,
   "id": "faa638c7-3ed3-41cb-a3ac-464ba8f9447c",
   "metadata": {},
   "outputs": [
    {
     "data": {
      "text/plain": [
       "0      ITCHY BOOTS  New Season: this is where I am go...\n",
       "1                                                      2\n",
       "2                                                      3\n",
       "3                                                      4\n",
       "4                                                      5\n",
       "                             ...                        \n",
       "466                                                   94\n",
       "467                                                   95\n",
       "468                                                   96\n",
       "469                                                   97\n",
       "470                                                   98\n",
       "Name: E, Length: 471, dtype: object"
      ]
     },
     "execution_count": 67,
     "metadata": {},
     "output_type": "execute_result"
    }
   ],
   "source": [
    "data.E"
   ]
  },
  {
   "cell_type": "code",
   "execution_count": 65,
   "id": "01d4052f-db0a-4ed1-a168-5dd9fae15518",
   "metadata": {},
   "outputs": [],
   "source": [
    "# data.E.corr(data.uploading_date)"
   ]
  },
  {
   "cell_type": "code",
   "execution_count": 61,
   "id": "c3488bb0-cad6-4882-aa32-944d2f10fa4d",
   "metadata": {},
   "outputs": [
    {
     "ename": "TypeError",
     "evalue": "unsupported operand type(s) for /: 'str' and 'int'",
     "output_type": "error",
     "traceback": [
      "\u001b[0;31m---------------------------------------------------------------------------\u001b[0m",
      "\u001b[0;31mTypeError\u001b[0m                                 Traceback (most recent call last)",
      "Cell \u001b[0;32mIn[61], line 1\u001b[0m\n\u001b[0;32m----> 1\u001b[0m \u001b[43mdata\u001b[49m\u001b[38;5;241;43m.\u001b[39;49m\u001b[43mE\u001b[49m\u001b[38;5;241;43m.\u001b[39;49m\u001b[43mcorr\u001b[49m\u001b[43m(\u001b[49m\u001b[43mdata\u001b[49m\u001b[38;5;241;43m.\u001b[39;49m\u001b[43mrate\u001b[49m\u001b[43m)\u001b[49m\n",
      "File \u001b[0;32m~/miniforge3/envs/se/lib/python3.11/site-packages/pandas/core/series.py:2727\u001b[0m, in \u001b[0;36mSeries.corr\u001b[0;34m(self, other, method, min_periods)\u001b[0m\n\u001b[1;32m   2724\u001b[0m     \u001b[38;5;28;01mreturn\u001b[39;00m np\u001b[38;5;241m.\u001b[39mnan\n\u001b[1;32m   2726\u001b[0m \u001b[38;5;28;01mif\u001b[39;00m method \u001b[38;5;129;01min\u001b[39;00m [\u001b[38;5;124m\"\u001b[39m\u001b[38;5;124mpearson\u001b[39m\u001b[38;5;124m\"\u001b[39m, \u001b[38;5;124m\"\u001b[39m\u001b[38;5;124mspearman\u001b[39m\u001b[38;5;124m\"\u001b[39m, \u001b[38;5;124m\"\u001b[39m\u001b[38;5;124mkendall\u001b[39m\u001b[38;5;124m\"\u001b[39m] \u001b[38;5;129;01mor\u001b[39;00m \u001b[38;5;28mcallable\u001b[39m(method):\n\u001b[0;32m-> 2727\u001b[0m     \u001b[38;5;28;01mreturn\u001b[39;00m \u001b[43mnanops\u001b[49m\u001b[38;5;241;43m.\u001b[39;49m\u001b[43mnancorr\u001b[49m\u001b[43m(\u001b[49m\n\u001b[1;32m   2728\u001b[0m \u001b[43m        \u001b[49m\u001b[43mthis\u001b[49m\u001b[38;5;241;43m.\u001b[39;49m\u001b[43mvalues\u001b[49m\u001b[43m,\u001b[49m\u001b[43m \u001b[49m\u001b[43mother\u001b[49m\u001b[38;5;241;43m.\u001b[39;49m\u001b[43mvalues\u001b[49m\u001b[43m,\u001b[49m\u001b[43m \u001b[49m\u001b[43mmethod\u001b[49m\u001b[38;5;241;43m=\u001b[39;49m\u001b[43mmethod\u001b[49m\u001b[43m,\u001b[49m\u001b[43m \u001b[49m\u001b[43mmin_periods\u001b[49m\u001b[38;5;241;43m=\u001b[39;49m\u001b[43mmin_periods\u001b[49m\n\u001b[1;32m   2729\u001b[0m \u001b[43m    \u001b[49m\u001b[43m)\u001b[49m\n\u001b[1;32m   2731\u001b[0m \u001b[38;5;28;01mraise\u001b[39;00m \u001b[38;5;167;01mValueError\u001b[39;00m(\n\u001b[1;32m   2732\u001b[0m     \u001b[38;5;124m\"\u001b[39m\u001b[38;5;124mmethod must be either \u001b[39m\u001b[38;5;124m'\u001b[39m\u001b[38;5;124mpearson\u001b[39m\u001b[38;5;124m'\u001b[39m\u001b[38;5;124m, \u001b[39m\u001b[38;5;124m\"\u001b[39m\n\u001b[1;32m   2733\u001b[0m     \u001b[38;5;124m\"\u001b[39m\u001b[38;5;124m'\u001b[39m\u001b[38;5;124mspearman\u001b[39m\u001b[38;5;124m'\u001b[39m\u001b[38;5;124m, \u001b[39m\u001b[38;5;124m'\u001b[39m\u001b[38;5;124mkendall\u001b[39m\u001b[38;5;124m'\u001b[39m\u001b[38;5;124m, or a callable, \u001b[39m\u001b[38;5;124m\"\u001b[39m\n\u001b[1;32m   2734\u001b[0m     \u001b[38;5;124mf\u001b[39m\u001b[38;5;124m\"\u001b[39m\u001b[38;5;124m'\u001b[39m\u001b[38;5;132;01m{\u001b[39;00mmethod\u001b[38;5;132;01m}\u001b[39;00m\u001b[38;5;124m'\u001b[39m\u001b[38;5;124m was supplied\u001b[39m\u001b[38;5;124m\"\u001b[39m\n\u001b[1;32m   2735\u001b[0m )\n",
      "File \u001b[0;32m~/miniforge3/envs/se/lib/python3.11/site-packages/pandas/core/nanops.py:96\u001b[0m, in \u001b[0;36mdisallow.__call__.<locals>._f\u001b[0;34m(*args, **kwargs)\u001b[0m\n\u001b[1;32m     94\u001b[0m \u001b[38;5;28;01mtry\u001b[39;00m:\n\u001b[1;32m     95\u001b[0m     \u001b[38;5;28;01mwith\u001b[39;00m np\u001b[38;5;241m.\u001b[39merrstate(invalid\u001b[38;5;241m=\u001b[39m\u001b[38;5;124m\"\u001b[39m\u001b[38;5;124mignore\u001b[39m\u001b[38;5;124m\"\u001b[39m):\n\u001b[0;32m---> 96\u001b[0m         \u001b[38;5;28;01mreturn\u001b[39;00m \u001b[43mf\u001b[49m\u001b[43m(\u001b[49m\u001b[38;5;241;43m*\u001b[39;49m\u001b[43margs\u001b[49m\u001b[43m,\u001b[49m\u001b[43m \u001b[49m\u001b[38;5;241;43m*\u001b[39;49m\u001b[38;5;241;43m*\u001b[39;49m\u001b[43mkwargs\u001b[49m\u001b[43m)\u001b[49m\n\u001b[1;32m     97\u001b[0m \u001b[38;5;28;01mexcept\u001b[39;00m \u001b[38;5;167;01mValueError\u001b[39;00m \u001b[38;5;28;01mas\u001b[39;00m e:\n\u001b[1;32m     98\u001b[0m     \u001b[38;5;66;03m# we want to transform an object array\u001b[39;00m\n\u001b[1;32m     99\u001b[0m     \u001b[38;5;66;03m# ValueError message to the more typical TypeError\u001b[39;00m\n\u001b[1;32m    100\u001b[0m     \u001b[38;5;66;03m# e.g. this is normally a disallowed function on\u001b[39;00m\n\u001b[1;32m    101\u001b[0m     \u001b[38;5;66;03m# object arrays that contain strings\u001b[39;00m\n\u001b[1;32m    102\u001b[0m     \u001b[38;5;28;01mif\u001b[39;00m is_object_dtype(args[\u001b[38;5;241m0\u001b[39m]):\n",
      "File \u001b[0;32m~/miniforge3/envs/se/lib/python3.11/site-packages/pandas/core/nanops.py:1614\u001b[0m, in \u001b[0;36mnancorr\u001b[0;34m(a, b, method, min_periods)\u001b[0m\n\u001b[1;32m   1611\u001b[0m     \u001b[38;5;28;01mreturn\u001b[39;00m np\u001b[38;5;241m.\u001b[39mnan\n\u001b[1;32m   1613\u001b[0m f \u001b[38;5;241m=\u001b[39m get_corr_func(method)\n\u001b[0;32m-> 1614\u001b[0m \u001b[38;5;28;01mreturn\u001b[39;00m \u001b[43mf\u001b[49m\u001b[43m(\u001b[49m\u001b[43ma\u001b[49m\u001b[43m,\u001b[49m\u001b[43m \u001b[49m\u001b[43mb\u001b[49m\u001b[43m)\u001b[49m\n",
      "File \u001b[0;32m~/miniforge3/envs/se/lib/python3.11/site-packages/pandas/core/nanops.py:1637\u001b[0m, in \u001b[0;36mget_corr_func.<locals>.func\u001b[0;34m(a, b)\u001b[0m\n\u001b[1;32m   1636\u001b[0m \u001b[38;5;28;01mdef\u001b[39;00m \u001b[38;5;21mfunc\u001b[39m(a, b):\n\u001b[0;32m-> 1637\u001b[0m     \u001b[38;5;28;01mreturn\u001b[39;00m \u001b[43mnp\u001b[49m\u001b[38;5;241;43m.\u001b[39;49m\u001b[43mcorrcoef\u001b[49m\u001b[43m(\u001b[49m\u001b[43ma\u001b[49m\u001b[43m,\u001b[49m\u001b[43m \u001b[49m\u001b[43mb\u001b[49m\u001b[43m)\u001b[49m[\u001b[38;5;241m0\u001b[39m, \u001b[38;5;241m1\u001b[39m]\n",
      "File \u001b[0;32m~/miniforge3/envs/se/lib/python3.11/site-packages/numpy/lib/function_base.py:2889\u001b[0m, in \u001b[0;36mcorrcoef\u001b[0;34m(x, y, rowvar, bias, ddof, dtype)\u001b[0m\n\u001b[1;32m   2885\u001b[0m \u001b[38;5;28;01mif\u001b[39;00m bias \u001b[38;5;129;01mis\u001b[39;00m \u001b[38;5;129;01mnot\u001b[39;00m np\u001b[38;5;241m.\u001b[39m_NoValue \u001b[38;5;129;01mor\u001b[39;00m ddof \u001b[38;5;129;01mis\u001b[39;00m \u001b[38;5;129;01mnot\u001b[39;00m np\u001b[38;5;241m.\u001b[39m_NoValue:\n\u001b[1;32m   2886\u001b[0m     \u001b[38;5;66;03m# 2015-03-15, 1.10\u001b[39;00m\n\u001b[1;32m   2887\u001b[0m     warnings\u001b[38;5;241m.\u001b[39mwarn(\u001b[38;5;124m'\u001b[39m\u001b[38;5;124mbias and ddof have no effect and are deprecated\u001b[39m\u001b[38;5;124m'\u001b[39m,\n\u001b[1;32m   2888\u001b[0m                   \u001b[38;5;167;01mDeprecationWarning\u001b[39;00m, stacklevel\u001b[38;5;241m=\u001b[39m\u001b[38;5;241m2\u001b[39m)\n\u001b[0;32m-> 2889\u001b[0m c \u001b[38;5;241m=\u001b[39m \u001b[43mcov\u001b[49m\u001b[43m(\u001b[49m\u001b[43mx\u001b[49m\u001b[43m,\u001b[49m\u001b[43m \u001b[49m\u001b[43my\u001b[49m\u001b[43m,\u001b[49m\u001b[43m \u001b[49m\u001b[43mrowvar\u001b[49m\u001b[43m,\u001b[49m\u001b[43m \u001b[49m\u001b[43mdtype\u001b[49m\u001b[38;5;241;43m=\u001b[39;49m\u001b[43mdtype\u001b[49m\u001b[43m)\u001b[49m\n\u001b[1;32m   2890\u001b[0m \u001b[38;5;28;01mtry\u001b[39;00m:\n\u001b[1;32m   2891\u001b[0m     d \u001b[38;5;241m=\u001b[39m diag(c)\n",
      "File \u001b[0;32m~/miniforge3/envs/se/lib/python3.11/site-packages/numpy/lib/function_base.py:2724\u001b[0m, in \u001b[0;36mcov\u001b[0;34m(m, y, rowvar, bias, ddof, fweights, aweights, dtype)\u001b[0m\n\u001b[1;32m   2721\u001b[0m     \u001b[38;5;28;01melse\u001b[39;00m:\n\u001b[1;32m   2722\u001b[0m         w \u001b[38;5;241m*\u001b[39m\u001b[38;5;241m=\u001b[39m aweights\n\u001b[0;32m-> 2724\u001b[0m avg, w_sum \u001b[38;5;241m=\u001b[39m \u001b[43maverage\u001b[49m\u001b[43m(\u001b[49m\u001b[43mX\u001b[49m\u001b[43m,\u001b[49m\u001b[43m \u001b[49m\u001b[43maxis\u001b[49m\u001b[38;5;241;43m=\u001b[39;49m\u001b[38;5;241;43m1\u001b[39;49m\u001b[43m,\u001b[49m\u001b[43m \u001b[49m\u001b[43mweights\u001b[49m\u001b[38;5;241;43m=\u001b[39;49m\u001b[43mw\u001b[49m\u001b[43m,\u001b[49m\u001b[43m \u001b[49m\u001b[43mreturned\u001b[49m\u001b[38;5;241;43m=\u001b[39;49m\u001b[38;5;28;43;01mTrue\u001b[39;49;00m\u001b[43m)\u001b[49m\n\u001b[1;32m   2725\u001b[0m w_sum \u001b[38;5;241m=\u001b[39m w_sum[\u001b[38;5;241m0\u001b[39m]\n\u001b[1;32m   2727\u001b[0m \u001b[38;5;66;03m# Determine the normalization\u001b[39;00m\n",
      "File \u001b[0;32m~/miniforge3/envs/se/lib/python3.11/site-packages/numpy/lib/function_base.py:520\u001b[0m, in \u001b[0;36maverage\u001b[0;34m(a, axis, weights, returned, keepdims)\u001b[0m\n\u001b[1;32m    517\u001b[0m     keepdims_kw \u001b[38;5;241m=\u001b[39m {\u001b[38;5;124m'\u001b[39m\u001b[38;5;124mkeepdims\u001b[39m\u001b[38;5;124m'\u001b[39m: keepdims}\n\u001b[1;32m    519\u001b[0m \u001b[38;5;28;01mif\u001b[39;00m weights \u001b[38;5;129;01mis\u001b[39;00m \u001b[38;5;28;01mNone\u001b[39;00m:\n\u001b[0;32m--> 520\u001b[0m     avg \u001b[38;5;241m=\u001b[39m \u001b[43ma\u001b[49m\u001b[38;5;241;43m.\u001b[39;49m\u001b[43mmean\u001b[49m\u001b[43m(\u001b[49m\u001b[43maxis\u001b[49m\u001b[43m,\u001b[49m\u001b[43m \u001b[49m\u001b[38;5;241;43m*\u001b[39;49m\u001b[38;5;241;43m*\u001b[39;49m\u001b[43mkeepdims_kw\u001b[49m\u001b[43m)\u001b[49m\n\u001b[1;32m    521\u001b[0m     avg_as_array \u001b[38;5;241m=\u001b[39m np\u001b[38;5;241m.\u001b[39masanyarray(avg)\n\u001b[1;32m    522\u001b[0m     scl \u001b[38;5;241m=\u001b[39m avg_as_array\u001b[38;5;241m.\u001b[39mdtype\u001b[38;5;241m.\u001b[39mtype(a\u001b[38;5;241m.\u001b[39msize\u001b[38;5;241m/\u001b[39mavg_as_array\u001b[38;5;241m.\u001b[39msize)\n",
      "File \u001b[0;32m~/miniforge3/envs/se/lib/python3.11/site-packages/numpy/core/_methods.py:121\u001b[0m, in \u001b[0;36m_mean\u001b[0;34m(a, axis, dtype, out, keepdims, where)\u001b[0m\n\u001b[1;32m    119\u001b[0m \u001b[38;5;28;01mif\u001b[39;00m \u001b[38;5;28misinstance\u001b[39m(ret, mu\u001b[38;5;241m.\u001b[39mndarray):\n\u001b[1;32m    120\u001b[0m     \u001b[38;5;28;01mwith\u001b[39;00m _no_nep50_warning():\n\u001b[0;32m--> 121\u001b[0m         ret \u001b[38;5;241m=\u001b[39m \u001b[43mum\u001b[49m\u001b[38;5;241;43m.\u001b[39;49m\u001b[43mtrue_divide\u001b[49m\u001b[43m(\u001b[49m\n\u001b[1;32m    122\u001b[0m \u001b[43m                \u001b[49m\u001b[43mret\u001b[49m\u001b[43m,\u001b[49m\u001b[43m \u001b[49m\u001b[43mrcount\u001b[49m\u001b[43m,\u001b[49m\u001b[43m \u001b[49m\u001b[43mout\u001b[49m\u001b[38;5;241;43m=\u001b[39;49m\u001b[43mret\u001b[49m\u001b[43m,\u001b[49m\u001b[43m \u001b[49m\u001b[43mcasting\u001b[49m\u001b[38;5;241;43m=\u001b[39;49m\u001b[38;5;124;43m'\u001b[39;49m\u001b[38;5;124;43munsafe\u001b[39;49m\u001b[38;5;124;43m'\u001b[39;49m\u001b[43m,\u001b[49m\u001b[43m \u001b[49m\u001b[43msubok\u001b[49m\u001b[38;5;241;43m=\u001b[39;49m\u001b[38;5;28;43;01mFalse\u001b[39;49;00m\u001b[43m)\u001b[49m\n\u001b[1;32m    123\u001b[0m     \u001b[38;5;28;01mif\u001b[39;00m is_float16_result \u001b[38;5;129;01mand\u001b[39;00m out \u001b[38;5;129;01mis\u001b[39;00m \u001b[38;5;28;01mNone\u001b[39;00m:\n\u001b[1;32m    124\u001b[0m         ret \u001b[38;5;241m=\u001b[39m arr\u001b[38;5;241m.\u001b[39mdtype\u001b[38;5;241m.\u001b[39mtype(ret)\n",
      "\u001b[0;31mTypeError\u001b[0m: unsupported operand type(s) for /: 'str' and 'int'"
     ]
    }
   ],
   "source": [
    "data.E.corr(data.rate)"
   ]
  },
  {
   "cell_type": "code",
   "execution_count": null,
   "id": "f401eda3-7011-4196-b579-87cd8958c4aa",
   "metadata": {},
   "outputs": [],
   "source": [
    "data.season_no.corr(data.rate)"
   ]
  },
  {
   "cell_type": "code",
   "execution_count": null,
   "id": "8e6dbcea-3936-4389-9042-93416e44c808",
   "metadata": {},
   "outputs": [],
   "source": [
    "# Sezonlara göre video süresi arasında pozitif bir ilişki var.\n",
    "data.season_no.corr(data.time)"
   ]
  },
  {
   "cell_type": "code",
   "execution_count": null,
   "id": "045ac161-3b19-4e3c-b4fa-cc3176eb770c",
   "metadata": {},
   "outputs": [],
   "source": [
    "# Süre ile izlenme oranında çok zayıf bir ilişki var.\n",
    "data.rate.corr(data.time)"
   ]
  },
  {
   "cell_type": "markdown",
   "id": "b89d759c-46b2-418f-a17a-a503d55ebaff",
   "metadata": {},
   "source": [
    "# 4. Plottings"
   ]
  },
  {
   "cell_type": "code",
   "execution_count": null,
   "id": "ec5372b4-d22f-4712-ba30-b879b943133b",
   "metadata": {},
   "outputs": [],
   "source": [
    "import matplotlib.pyplot as plt"
   ]
  },
  {
   "cell_type": "code",
   "execution_count": null,
   "id": "899c5014-6376-47cf-8ae0-2923594538cb",
   "metadata": {},
   "outputs": [],
   "source": [
    "# İlk sezonda süreler artırmaya başlanmış.\n",
    "plt.scatter(data.E[data.season_no==1], data.time[data.season_no==1])"
   ]
  },
  {
   "cell_type": "code",
   "execution_count": null,
   "id": "854a762f-5584-45ad-84d1-28e47938a296",
   "metadata": {},
   "outputs": [],
   "source": [
    "# Son sezonlarda artık belirli bir sürede karar kılmış\n",
    "plt.scatter(data.E[data.season_no==6], data.time[data.season_no==6])"
   ]
  },
  {
   "cell_type": "code",
   "execution_count": null,
   "id": "28848f8b-7bdc-4188-9dd9-5da5f6b664e5",
   "metadata": {},
   "outputs": [],
   "source": [
    "plt.scatter(data.E[data.season_no==1], data.rate[data.season_no==1])"
   ]
  },
  {
   "cell_type": "code",
   "execution_count": null,
   "id": "d4eb27a8-df5d-4b34-8cde-ab1859a8c677",
   "metadata": {},
   "outputs": [],
   "source": [
    "plt.scatter(data.E[data.season_no==6], data.rate[data.season_no==6])"
   ]
  },
  {
   "cell_type": "code",
   "execution_count": null,
   "id": "28db78f9-e908-4732-a8b6-bd5e132169a9",
   "metadata": {},
   "outputs": [],
   "source": [
    "data.groupby('season_no')['rate'].mean()"
   ]
  },
  {
   "cell_type": "code",
   "execution_count": null,
   "id": "a98717a5-26fd-4474-9cc0-e223fcf3a50d",
   "metadata": {},
   "outputs": [],
   "source": [
    "data.groupby('season_no')['rate'].min()"
   ]
  },
  {
   "cell_type": "code",
   "execution_count": null,
   "id": "5f8b0635-56e8-4f55-abac-6df071bea7a0",
   "metadata": {},
   "outputs": [],
   "source": [
    "data.groupby('season_no')['rate'].max()"
   ]
  },
  {
   "cell_type": "markdown",
   "id": "788ad055-b7c4-4b65-8fb2-29c79eddb973",
   "metadata": {},
   "source": [
    "# 5. En çok ve en az izlenenler"
   ]
  },
  {
   "cell_type": "code",
   "execution_count": null,
   "id": "c3cc1f52-aa7c-4a2f-80e6-4f690a73268b",
   "metadata": {},
   "outputs": [],
   "source": [
    "data[data.rate > 2000000].sort_values(by='rate', ascending=False)"
   ]
  },
  {
   "cell_type": "code",
   "execution_count": null,
   "id": "a0d16feb-f2a6-4d49-b81d-f1af9d6d3f3a",
   "metadata": {},
   "outputs": [],
   "source": [
    "# Kabaca bir bakışla yeni alınan motor, sınır geçişleri ve sorunlar daha fazla izleniyor gibi.\n",
    "# Bir de az izlenenlere bakalım\n",
    "# Burada sentiment analizi yapılabilir. İlerisi için düşünmeli!"
   ]
  },
  {
   "cell_type": "code",
   "execution_count": null,
   "id": "fd46aa38-15e2-47bb-8ce5-d4a133d60156",
   "metadata": {},
   "outputs": [],
   "source": [
    "data[data.rate < 300000].sort_values(by='rate')"
   ]
  },
  {
   "cell_type": "markdown",
   "id": "1104a054-2aed-48d7-ba03-32f244ffed6e",
   "metadata": {},
   "source": [
    "# 6. Sezonlar ve bölüm sayıları"
   ]
  },
  {
   "cell_type": "code",
   "execution_count": null,
   "id": "3147b9b5-7252-428e-b983-a01b412a4b4e",
   "metadata": {},
   "outputs": [],
   "source": [
    "labels = data.season_no.value_counts().keys()\n",
    "labels.sort_values()"
   ]
  },
  {
   "cell_type": "code",
   "execution_count": null,
   "id": "4a1bc245-94e5-4c9e-ad4c-071e0e9f2dc7",
   "metadata": {
    "scrolled": true
   },
   "outputs": [],
   "source": [
    "# Sezon ve bölümler\n",
    "plt.figure(figsize=(10,10))\n",
    "plt.title('Sezona göre bölüm sayıları')\n",
    "plt.pie(data.groupby('season_no')['E'].max(), labels=labels.sort_values())\n",
    "plt.legend(title='Sezonlar')\n",
    "plt.savefig('images/seasons.png');"
   ]
  },
  {
   "cell_type": "code",
   "execution_count": null,
   "id": "72fc3524-3448-49c1-9315-e8f4e9a3b487",
   "metadata": {},
   "outputs": [],
   "source": []
  }
 ],
 "metadata": {
  "kernelspec": {
   "display_name": "Python 3 (ipykernel)",
   "language": "python",
   "name": "python3"
  },
  "language_info": {
   "codemirror_mode": {
    "name": "ipython",
    "version": 3
   },
   "file_extension": ".py",
   "mimetype": "text/x-python",
   "name": "python",
   "nbconvert_exporter": "python",
   "pygments_lexer": "ipython3",
   "version": "3.11.4"
  }
 },
 "nbformat": 4,
 "nbformat_minor": 5
}
